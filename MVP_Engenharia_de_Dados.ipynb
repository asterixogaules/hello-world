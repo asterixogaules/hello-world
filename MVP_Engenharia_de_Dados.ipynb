{
 "cells": [
  {
   "cell_type": "code",
   "execution_count": 0,
   "metadata": {
    "application/vnd.databricks.v1+cell": {
     "cellMetadata": {
      "byteLimit": 2048000,
      "rowLimit": 10000
     },
     "inputWidgets": {},
     "nuid": "ccd4a157-07b1-4822-b354-011cd6aac20b",
     "showTitle": false,
     "tableResultSettingsMap": {},
     "title": ""
    }
   },
   "outputs": [],
   "source": [
    "from pyspark.sql.functions import sum, avg, max, min\n",
    "\n",
    "# File location and type\n",
    "file_location =  \"/FileStore/tables/PS_20174392719_1491204439457_log.csv\"\n",
    "file_type = \"csv\"\n",
    "\n",
    "# CSV options\n",
    "infer_schema = \"false\"\n",
    "first_row_is_header = \"false\"\n",
    "delimiter = \",\"\n",
    "\n",
    "\n",
    "from pyspark.sql import SparkSession\n",
    "\n",
    "spark = SparkSession.builder.appName(\"Análise de Transações\").getOrCreate()\n",
    "\n",
    "df = spark.read.format(\"csv\") \\\n",
    "    .option(\"header\", \"true\") \\\n",
    "    .option(\"inferSchema\", \"true\") \\\n",
    "    .load( \"/FileStore/tables/PS_20174392719_1491204439457_log.csv\")\n",
    "\n",
    "df.createOrReplaceTempView(\"transactions\")"
   ]
  },
  {
   "cell_type": "code",
   "execution_count": 0,
   "metadata": {
    "application/vnd.databricks.v1+cell": {
     "cellMetadata": {
      "byteLimit": 2048000,
      "rowLimit": 10000
     },
     "inputWidgets": {},
     "nuid": "3450e768-cb2c-46f4-b7b3-320a9a515355",
     "showTitle": false,
     "tableResultSettingsMap": {},
     "title": ""
    }
   },
   "outputs": [
    {
     "output_type": "stream",
     "name": "stdout",
     "output_type": "stream",
     "text": [
      "root\n |-- step: integer (nullable = true)\n |-- type: string (nullable = true)\n |-- amount: double (nullable = true)\n |-- nameOrig: string (nullable = true)\n |-- oldbalanceOrg: double (nullable = true)\n |-- newbalanceOrig: double (nullable = true)\n |-- nameDest: string (nullable = true)\n |-- oldbalanceDest: double (nullable = true)\n |-- newbalanceDest: double (nullable = true)\n |-- isFraud: integer (nullable = true)\n |-- isFlaggedFraud: integer (nullable = true)\n\n+----+--------+--------+-----------+-------------+--------------+-----------+--------------+--------------+-------+--------------+\n|step|    type|  amount|   nameOrig|oldbalanceOrg|newbalanceOrig|   nameDest|oldbalanceDest|newbalanceDest|isFraud|isFlaggedFraud|\n+----+--------+--------+-----------+-------------+--------------+-----------+--------------+--------------+-------+--------------+\n|   1| PAYMENT| 9839.64|C1231006815|     170136.0|     160296.36|M1979787155|           0.0|           0.0|      0|             0|\n|   1| PAYMENT| 1864.28|C1666544295|      21249.0|      19384.72|M2044282225|           0.0|           0.0|      0|             0|\n|   1|TRANSFER|   181.0|C1305486145|        181.0|           0.0| C553264065|           0.0|           0.0|      1|             0|\n|   1|CASH_OUT|   181.0| C840083671|        181.0|           0.0|  C38997010|       21182.0|           0.0|      1|             0|\n|   1| PAYMENT|11668.14|C2048537720|      41554.0|      29885.86|M1230701703|           0.0|           0.0|      0|             0|\n+----+--------+--------+-----------+-------------+--------------+-----------+--------------+--------------+-------+--------------+\nonly showing top 5 rows\n\n"
     ]
    }
   ],
   "source": [
    "df.printSchema()\n",
    "df.show(5)"
   ]
  },
  {
   "cell_type": "code",
   "execution_count": 0,
   "metadata": {
    "application/vnd.databricks.v1+cell": {
     "cellMetadata": {
      "byteLimit": 2048000,
      "rowLimit": 10000
     },
     "inputWidgets": {},
     "nuid": "0addbfcb-51f9-4b51-8a1a-ab12faaf8b7c",
     "showTitle": false,
     "tableResultSettingsMap": {},
     "title": ""
    }
   },
   "outputs": [
    {
     "output_type": "display_data",
     "data": {
      "text/html": [
       "<style scoped>\n",
       "  .table-result-container {\n",
       "    max-height: 300px;\n",
       "    overflow: auto;\n",
       "  }\n",
       "  table, th, td {\n",
       "    border: 1px solid black;\n",
       "    border-collapse: collapse;\n",
       "  }\n",
       "  th, td {\n",
       "    padding: 5px;\n",
       "  }\n",
       "  th {\n",
       "    text-align: left;\n",
       "  }\n",
       "</style><div class='table-result-container'><table class='table-result'><thead style='background-color: white'><tr><th>type</th><th>total_transacoes</th></tr></thead><tbody><tr><td>CASH_OUT</td><td>2237500</td></tr><tr><td>PAYMENT</td><td>2151495</td></tr><tr><td>CASH_IN</td><td>1399284</td></tr><tr><td>TRANSFER</td><td>532909</td></tr><tr><td>DEBIT</td><td>41432</td></tr></tbody></table></div>"
      ]
     },
     "metadata": {
      "application/vnd.databricks.v1+output": {
       "addedWidgets": {},
       "aggData": [],
       "aggError": "",
       "aggOverflow": false,
       "aggSchema": [],
       "aggSeriesLimitReached": false,
       "aggType": "",
       "arguments": {},
       "columnCustomDisplayInfos": {},
       "data": [
        [
         "CASH_OUT",
         2237500
        ],
        [
         "PAYMENT",
         2151495
        ],
        [
         "CASH_IN",
         1399284
        ],
        [
         "TRANSFER",
         532909
        ],
        [
         "DEBIT",
         41432
        ]
       ],
       "datasetInfos": [],
       "dbfsResultPath": null,
       "isJsonSchema": true,
       "metadata": {},
       "overflow": false,
       "plotOptions": {
        "customPlotOptions": {},
        "displayType": "table",
        "pivotAggregation": null,
        "pivotColumns": null,
        "xColumns": null,
        "yColumns": null
       },
       "removedWidgets": [],
       "schema": [
        {
         "metadata": "{}",
         "name": "type",
         "type": "\"string\""
        },
        {
         "metadata": "{}",
         "name": "total_transacoes",
         "type": "\"long\""
        }
       ],
       "type": "table"
      }
     },
     "output_type": "display_data"
    }
   ],
   "source": [
    "# 1. Frequência por tipo de transação\n",
    "# spark.sql(\"\"\"\n",
    "# SELECT type, COUNT(*) AS total_transacoes\n",
    "# FROM transactions\n",
    "# GROUP BY type\n",
    "# ORDER BY total_transacoes DESC\n",
    "# \"\"\").show()\n",
    "\n",
    "# 1. Frequência por tipo de transação\n",
    "df_tipo = spark.sql(\"\"\"\n",
    "SELECT type, COUNT(*) AS total_transacoes\n",
    "FROM transactions\n",
    "GROUP BY type\n",
    "ORDER BY total_transacoes DESC\n",
    "\"\"\")\n",
    "display(df_tipo)\n"
   ]
  },
  {
   "cell_type": "code",
   "execution_count": 0,
   "metadata": {
    "application/vnd.databricks.v1+cell": {
     "cellMetadata": {
      "byteLimit": 2048000,
      "rowLimit": 10000
     },
     "inputWidgets": {},
     "nuid": "ad9048d9-5939-4db9-9338-6c7a8293a34e",
     "showTitle": false,
     "tableResultSettingsMap": {},
     "title": ""
    }
   },
   "outputs": [
    {
     "output_type": "display_data",
     "data": {
      "text/html": [
       "<style scoped>\n",
       "  .table-result-container {\n",
       "    max-height: 300px;\n",
       "    overflow: auto;\n",
       "  }\n",
       "  table, th, td {\n",
       "    border: 1px solid black;\n",
       "    border-collapse: collapse;\n",
       "  }\n",
       "  th, td {\n",
       "    padding: 5px;\n",
       "  }\n",
       "  th {\n",
       "    text-align: left;\n",
       "  }\n",
       "</style><div class='table-result-container'><table class='table-result'><thead style='background-color: white'><tr><th>type</th><th>valor_medio</th></tr></thead><tbody><tr><td>TRANSFER</td><td>910647.01</td></tr><tr><td>CASH_OUT</td><td>176273.96</td></tr><tr><td>CASH_IN</td><td>168920.24</td></tr><tr><td>PAYMENT</td><td>13057.6</td></tr><tr><td>DEBIT</td><td>5483.67</td></tr></tbody></table></div>"
      ]
     },
     "metadata": {
      "application/vnd.databricks.v1+output": {
       "addedWidgets": {},
       "aggData": [],
       "aggError": "",
       "aggOverflow": false,
       "aggSchema": [],
       "aggSeriesLimitReached": false,
       "aggType": "",
       "arguments": {},
       "columnCustomDisplayInfos": {},
       "data": [
        [
         "TRANSFER",
         910647.01
        ],
        [
         "CASH_OUT",
         176273.96
        ],
        [
         "CASH_IN",
         168920.24
        ],
        [
         "PAYMENT",
         13057.6
        ],
        [
         "DEBIT",
         5483.67
        ]
       ],
       "datasetInfos": [],
       "dbfsResultPath": null,
       "isJsonSchema": true,
       "metadata": {},
       "overflow": false,
       "plotOptions": {
        "customPlotOptions": {},
        "displayType": "table",
        "pivotAggregation": null,
        "pivotColumns": null,
        "xColumns": null,
        "yColumns": null
       },
       "removedWidgets": [],
       "schema": [
        {
         "metadata": "{}",
         "name": "type",
         "type": "\"string\""
        },
        {
         "metadata": "{}",
         "name": "valor_medio",
         "type": "\"double\""
        }
       ],
       "type": "table"
      }
     },
     "output_type": "display_data"
    }
   ],
   "source": [
    "# 2. Valor médio por tipo de transação\n",
    "# spark.sql(\"\"\"\n",
    "# SELECT type, ROUND(AVG(amount), 2) AS valor_medio\n",
    "# FROM transactions\n",
    "# GROUP BY type\n",
    "# ORDER BY valor_medio DESC\n",
    "# \"\"\").show()\n",
    "\n",
    "# 2. Valor médio por tipo de transação\n",
    "df_valor_medio = spark.sql(\"\"\"\n",
    "SELECT type, ROUND(AVG(amount), 2) AS valor_medio\n",
    "FROM transactions\n",
    "GROUP BY type\n",
    "ORDER BY valor_medio DESC\n",
    "\"\"\")\n",
    "display(df_valor_medio)"
   ]
  },
  {
   "cell_type": "code",
   "execution_count": 0,
   "metadata": {
    "application/vnd.databricks.v1+cell": {
     "cellMetadata": {
      "byteLimit": 2048000,
      "rowLimit": 10000
     },
     "inputWidgets": {},
     "nuid": "d9608e7a-819b-4e81-be36-87c25b02e850",
     "showTitle": false,
     "tableResultSettingsMap": {},
     "title": ""
    }
   },
   "outputs": [
    {
     "output_type": "display_data",
     "data": {
      "text/html": [
       "<style scoped>\n",
       "  .table-result-container {\n",
       "    max-height: 300px;\n",
       "    overflow: auto;\n",
       "  }\n",
       "  table, th, td {\n",
       "    border: 1px solid black;\n",
       "    border-collapse: collapse;\n",
       "  }\n",
       "  th, td {\n",
       "    padding: 5px;\n",
       "  }\n",
       "  th {\n",
       "    text-align: left;\n",
       "  }\n",
       "</style><div class='table-result-container'><table class='table-result'><thead style='background-color: white'><tr><th>type</th><th>total_fraudes</th></tr></thead><tbody><tr><td>CASH_OUT</td><td>4116</td></tr><tr><td>TRANSFER</td><td>4097</td></tr></tbody></table></div>"
      ]
     },
     "metadata": {
      "application/vnd.databricks.v1+output": {
       "addedWidgets": {},
       "aggData": [],
       "aggError": "",
       "aggOverflow": false,
       "aggSchema": [],
       "aggSeriesLimitReached": false,
       "aggType": "",
       "arguments": {},
       "columnCustomDisplayInfos": {},
       "data": [
        [
         "CASH_OUT",
         4116
        ],
        [
         "TRANSFER",
         4097
        ]
       ],
       "datasetInfos": [],
       "dbfsResultPath": null,
       "isJsonSchema": true,
       "metadata": {},
       "overflow": false,
       "plotOptions": {
        "customPlotOptions": {},
        "displayType": "table",
        "pivotAggregation": null,
        "pivotColumns": null,
        "xColumns": null,
        "yColumns": null
       },
       "removedWidgets": [],
       "schema": [
        {
         "metadata": "{}",
         "name": "type",
         "type": "\"string\""
        },
        {
         "metadata": "{}",
         "name": "total_fraudes",
         "type": "\"long\""
        }
       ],
       "type": "table"
      }
     },
     "output_type": "display_data"
    }
   ],
   "source": [
    "# 3. Transações fraudulentas por tipo\n",
    "# spark.sql(\"\"\"\n",
    "# SELECT type, COUNT(*) AS total_fraudes\n",
    "# FROM transactions\n",
    "# WHERE isFraud = 1\n",
    "# GROUP BY type\n",
    "# ORDER BY total_fraudes DESC\n",
    "# \"\"\").show()\n",
    "\n",
    "# 3. Transações fraudulentas por tipo\n",
    "df_fraudes_tipo = spark.sql(\"\"\"\n",
    "SELECT type, COUNT(*) AS total_fraudes\n",
    "FROM transactions\n",
    "WHERE isFraud = 1\n",
    "GROUP BY type\n",
    "ORDER BY total_fraudes DESC\n",
    "\"\"\")\n",
    "display(df_fraudes_tipo)"
   ]
  },
  {
   "cell_type": "code",
   "execution_count": 0,
   "metadata": {
    "application/vnd.databricks.v1+cell": {
     "cellMetadata": {
      "byteLimit": 2048000,
      "rowLimit": 10000
     },
     "inputWidgets": {},
     "nuid": "73633fd2-aab1-4191-9b30-ac4af21344d7",
     "showTitle": false,
     "tableResultSettingsMap": {},
     "title": ""
    }
   },
   "outputs": [
    {
     "output_type": "display_data",
     "data": {
      "text/html": [
       "<style scoped>\n",
       "  .table-result-container {\n",
       "    max-height: 300px;\n",
       "    overflow: auto;\n",
       "  }\n",
       "  table, th, td {\n",
       "    border: 1px solid black;\n",
       "    border-collapse: collapse;\n",
       "  }\n",
       "  th, td {\n",
       "    padding: 5px;\n",
       "  }\n",
       "  th {\n",
       "    text-align: left;\n",
       "  }\n",
       "</style><div class='table-result-container'><table class='table-result'><thead style='background-color: white'><tr><th>nameOrig</th><th>transacoes</th></tr></thead><tbody><tr><td>C1784010646</td><td>3</td></tr><tr><td>C1902386530</td><td>3</td></tr><tr><td>C400299098</td><td>3</td></tr><tr><td>C1976208114</td><td>3</td></tr><tr><td>C1677795071</td><td>3</td></tr><tr><td>C1832548028</td><td>3</td></tr><tr><td>C1462946854</td><td>3</td></tr><tr><td>C2098525306</td><td>3</td></tr><tr><td>C545315117</td><td>3</td></tr><tr><td>C1530544995</td><td>3</td></tr></tbody></table></div>"
      ]
     },
     "metadata": {
      "application/vnd.databricks.v1+output": {
       "addedWidgets": {},
       "aggData": [],
       "aggError": "",
       "aggOverflow": false,
       "aggSchema": [],
       "aggSeriesLimitReached": false,
       "aggType": "",
       "arguments": {},
       "columnCustomDisplayInfos": {},
       "data": [
        [
         "C1784010646",
         3
        ],
        [
         "C1902386530",
         3
        ],
        [
         "C400299098",
         3
        ],
        [
         "C1976208114",
         3
        ],
        [
         "C1677795071",
         3
        ],
        [
         "C1832548028",
         3
        ],
        [
         "C1462946854",
         3
        ],
        [
         "C2098525306",
         3
        ],
        [
         "C545315117",
         3
        ],
        [
         "C1530544995",
         3
        ]
       ],
       "datasetInfos": [],
       "dbfsResultPath": null,
       "isJsonSchema": true,
       "metadata": {},
       "overflow": false,
       "plotOptions": {
        "customPlotOptions": {},
        "displayType": "table",
        "pivotAggregation": null,
        "pivotColumns": null,
        "xColumns": null,
        "yColumns": null
       },
       "removedWidgets": [],
       "schema": [
        {
         "metadata": "{}",
         "name": "nameOrig",
         "type": "\"string\""
        },
        {
         "metadata": "{}",
         "name": "transacoes",
         "type": "\"long\""
        }
       ],
       "type": "table"
      }
     },
     "output_type": "display_data"
    }
   ],
   "source": [
    "# 4. Top clientes com mais transações\n",
    "# spark.sql(\"\"\"\n",
    "# SELECT nameOrig, COUNT(*) AS transacoes\n",
    "# FROM transactions\n",
    "# GROUP BY nameOrig\n",
    "# ORDER BY transacoes DESC\n",
    "# LIMIT 10\n",
    "# \"\"\").show()\n",
    "\n",
    "# 4. Top clientes com mais transações\n",
    "df_top_clientes = spark.sql(\"\"\"\n",
    "SELECT nameOrig, COUNT(*) AS transacoes\n",
    "FROM transactions\n",
    "GROUP BY nameOrig\n",
    "ORDER BY transacoes DESC\n",
    "LIMIT 10\n",
    "\"\"\")\n",
    "display(df_top_clientes)"
   ]
  },
  {
   "cell_type": "code",
   "execution_count": 0,
   "metadata": {
    "application/vnd.databricks.v1+cell": {
     "cellMetadata": {
      "byteLimit": 2048000,
      "rowLimit": 10000
     },
     "inputWidgets": {},
     "nuid": "980fa413-ed87-4473-8320-5e0a6f1e8978",
     "showTitle": false,
     "tableResultSettingsMap": {},
     "title": ""
    }
   },
   "outputs": [
    {
     "output_type": "display_data",
     "data": {
      "text/html": [
       "<style scoped>\n",
       "  .table-result-container {\n",
       "    max-height: 300px;\n",
       "    overflow: auto;\n",
       "  }\n",
       "  table, th, td {\n",
       "    border: 1px solid black;\n",
       "    border-collapse: collapse;\n",
       "  }\n",
       "  th, td {\n",
       "    padding: 5px;\n",
       "  }\n",
       "  th {\n",
       "    text-align: left;\n",
       "  }\n",
       "</style><div class='table-result-container'><table class='table-result'><thead style='background-color: white'><tr><th>step</th><th>fraudes</th></tr></thead><tbody><tr><td>1</td><td>16</td></tr><tr><td>2</td><td>8</td></tr><tr><td>3</td><td>4</td></tr><tr><td>4</td><td>10</td></tr><tr><td>5</td><td>6</td></tr><tr><td>6</td><td>22</td></tr><tr><td>7</td><td>12</td></tr><tr><td>8</td><td>12</td></tr><tr><td>9</td><td>19</td></tr><tr><td>10</td><td>11</td></tr><tr><td>11</td><td>7</td></tr><tr><td>12</td><td>14</td></tr><tr><td>13</td><td>14</td></tr><tr><td>14</td><td>12</td></tr><tr><td>15</td><td>20</td></tr><tr><td>16</td><td>10</td></tr><tr><td>17</td><td>7</td></tr><tr><td>18</td><td>16</td></tr><tr><td>19</td><td>11</td></tr><tr><td>20</td><td>4</td></tr><tr><td>21</td><td>5</td></tr><tr><td>22</td><td>23</td></tr><tr><td>23</td><td>2</td></tr><tr><td>24</td><td>6</td></tr><tr><td>25</td><td>18</td></tr><tr><td>26</td><td>12</td></tr><tr><td>27</td><td>8</td></tr><tr><td>28</td><td>4</td></tr><tr><td>29</td><td>4</td></tr><tr><td>30</td><td>8</td></tr><tr><td>31</td><td>12</td></tr><tr><td>32</td><td>12</td></tr><tr><td>33</td><td>12</td></tr><tr><td>34</td><td>22</td></tr><tr><td>35</td><td>15</td></tr><tr><td>36</td><td>19</td></tr><tr><td>37</td><td>13</td></tr><tr><td>38</td><td>16</td></tr><tr><td>39</td><td>12</td></tr><tr><td>40</td><td>14</td></tr><tr><td>41</td><td>12</td></tr><tr><td>42</td><td>14</td></tr><tr><td>43</td><td>13</td></tr><tr><td>44</td><td>8</td></tr><tr><td>45</td><td>16</td></tr><tr><td>46</td><td>14</td></tr><tr><td>47</td><td>21</td></tr><tr><td>48</td><td>10</td></tr><tr><td>49</td><td>4</td></tr><tr><td>50</td><td>6</td></tr><tr><td>51</td><td>14</td></tr><tr><td>52</td><td>8</td></tr><tr><td>53</td><td>10</td></tr><tr><td>54</td><td>4</td></tr><tr><td>55</td><td>12</td></tr><tr><td>56</td><td>18</td></tr><tr><td>57</td><td>6</td></tr><tr><td>58</td><td>20</td></tr><tr><td>59</td><td>20</td></tr><tr><td>60</td><td>12</td></tr><tr><td>61</td><td>14</td></tr><tr><td>62</td><td>8</td></tr><tr><td>63</td><td>8</td></tr><tr><td>64</td><td>18</td></tr><tr><td>65</td><td>20</td></tr><tr><td>66</td><td>24</td></tr><tr><td>67</td><td>6</td></tr><tr><td>68</td><td>18</td></tr><tr><td>69</td><td>20</td></tr><tr><td>70</td><td>6</td></tr><tr><td>71</td><td>20</td></tr><tr><td>72</td><td>14</td></tr><tr><td>73</td><td>8</td></tr><tr><td>74</td><td>22</td></tr><tr><td>75</td><td>8</td></tr><tr><td>76</td><td>4</td></tr><tr><td>77</td><td>10</td></tr><tr><td>78</td><td>10</td></tr><tr><td>79</td><td>10</td></tr><tr><td>80</td><td>10</td></tr><tr><td>81</td><td>10</td></tr><tr><td>82</td><td>10</td></tr><tr><td>83</td><td>12</td></tr><tr><td>84</td><td>16</td></tr><tr><td>85</td><td>14</td></tr><tr><td>86</td><td>18</td></tr><tr><td>87</td><td>6</td></tr><tr><td>88</td><td>8</td></tr><tr><td>89</td><td>6</td></tr><tr><td>90</td><td>16</td></tr><tr><td>91</td><td>8</td></tr><tr><td>92</td><td>10</td></tr><tr><td>93</td><td>16</td></tr><tr><td>94</td><td>12</td></tr><tr><td>95</td><td>14</td></tr><tr><td>96</td><td>4</td></tr><tr><td>97</td><td>10</td></tr><tr><td>98</td><td>14</td></tr><tr><td>99</td><td>8</td></tr><tr><td>100</td><td>6</td></tr><tr><td>101</td><td>12</td></tr><tr><td>102</td><td>12</td></tr><tr><td>103</td><td>8</td></tr><tr><td>104</td><td>14</td></tr><tr><td>105</td><td>18</td></tr><tr><td>106</td><td>18</td></tr><tr><td>107</td><td>10</td></tr><tr><td>108</td><td>8</td></tr><tr><td>109</td><td>12</td></tr><tr><td>110</td><td>10</td></tr><tr><td>111</td><td>10</td></tr><tr><td>112</td><td>2</td></tr><tr><td>113</td><td>6</td></tr><tr><td>114</td><td>4</td></tr><tr><td>115</td><td>10</td></tr><tr><td>116</td><td>14</td></tr><tr><td>117</td><td>12</td></tr><tr><td>118</td><td>12</td></tr><tr><td>119</td><td>10</td></tr><tr><td>120</td><td>12</td></tr><tr><td>121</td><td>14</td></tr><tr><td>122</td><td>14</td></tr><tr><td>123</td><td>6</td></tr><tr><td>124</td><td>4</td></tr><tr><td>125</td><td>10</td></tr><tr><td>126</td><td>6</td></tr><tr><td>127</td><td>14</td></tr><tr><td>128</td><td>8</td></tr><tr><td>129</td><td>6</td></tr><tr><td>130</td><td>6</td></tr><tr><td>131</td><td>16</td></tr><tr><td>132</td><td>10</td></tr><tr><td>133</td><td>10</td></tr><tr><td>134</td><td>10</td></tr><tr><td>135</td><td>8</td></tr><tr><td>136</td><td>10</td></tr><tr><td>137</td><td>12</td></tr><tr><td>138</td><td>4</td></tr><tr><td>139</td><td>4</td></tr><tr><td>140</td><td>14</td></tr><tr><td>141</td><td>8</td></tr><tr><td>142</td><td>8</td></tr><tr><td>143</td><td>16</td></tr><tr><td>144</td><td>10</td></tr><tr><td>145</td><td>14</td></tr><tr><td>146</td><td>10</td></tr><tr><td>147</td><td>6</td></tr><tr><td>148</td><td>12</td></tr><tr><td>149</td><td>22</td></tr><tr><td>150</td><td>14</td></tr><tr><td>151</td><td>18</td></tr><tr><td>152</td><td>6</td></tr><tr><td>153</td><td>10</td></tr><tr><td>154</td><td>10</td></tr><tr><td>155</td><td>8</td></tr><tr><td>156</td><td>18</td></tr><tr><td>157</td><td>16</td></tr><tr><td>158</td><td>8</td></tr><tr><td>159</td><td>10</td></tr><tr><td>160</td><td>26</td></tr><tr><td>161</td><td>14</td></tr><tr><td>162</td><td>10</td></tr><tr><td>163</td><td>8</td></tr><tr><td>164</td><td>14</td></tr><tr><td>165</td><td>4</td></tr><tr><td>166</td><td>6</td></tr><tr><td>167</td><td>6</td></tr><tr><td>168</td><td>2</td></tr><tr><td>169</td><td>10</td></tr><tr><td>170</td><td>16</td></tr><tr><td>171</td><td>14</td></tr><tr><td>172</td><td>10</td></tr><tr><td>173</td><td>14</td></tr><tr><td>174</td><td>10</td></tr><tr><td>175</td><td>8</td></tr><tr><td>176</td><td>10</td></tr><tr><td>177</td><td>18</td></tr><tr><td>178</td><td>14</td></tr><tr><td>179</td><td>8</td></tr><tr><td>180</td><td>10</td></tr><tr><td>181</td><td>11</td></tr><tr><td>182</td><td>8</td></tr><tr><td>183</td><td>16</td></tr><tr><td>184</td><td>8</td></tr><tr><td>185</td><td>16</td></tr><tr><td>186</td><td>17</td></tr><tr><td>187</td><td>10</td></tr><tr><td>188</td><td>10</td></tr><tr><td>189</td><td>10</td></tr><tr><td>190</td><td>8</td></tr><tr><td>191</td><td>12</td></tr><tr><td>192</td><td>10</td></tr><tr><td>193</td><td>8</td></tr><tr><td>194</td><td>12</td></tr><tr><td>195</td><td>10</td></tr><tr><td>196</td><td>8</td></tr><tr><td>197</td><td>4</td></tr><tr><td>198</td><td>12</td></tr><tr><td>199</td><td>10</td></tr><tr><td>200</td><td>8</td></tr><tr><td>201</td><td>8</td></tr><tr><td>202</td><td>2</td></tr><tr><td>203</td><td>8</td></tr><tr><td>204</td><td>6</td></tr><tr><td>205</td><td>16</td></tr><tr><td>206</td><td>12</td></tr><tr><td>207</td><td>6</td></tr><tr><td>208</td><td>21</td></tr><tr><td>209</td><td>6</td></tr><tr><td>210</td><td>8</td></tr><tr><td>211</td><td>14</td></tr><tr><td>212</td><td>40</td></tr><tr><td>213</td><td>8</td></tr><tr><td>214</td><td>12</td></tr><tr><td>215</td><td>10</td></tr><tr><td>216</td><td>6</td></tr><tr><td>217</td><td>16</td></tr><tr><td>218</td><td>12</td></tr><tr><td>219</td><td>10</td></tr><tr><td>220</td><td>6</td></tr><tr><td>221</td><td>10</td></tr><tr><td>222</td><td>8</td></tr><tr><td>223</td><td>8</td></tr><tr><td>224</td><td>10</td></tr><tr><td>225</td><td>12</td></tr><tr><td>226</td><td>12</td></tr><tr><td>227</td><td>14</td></tr><tr><td>228</td><td>16</td></tr><tr><td>229</td><td>8</td></tr><tr><td>230</td><td>17</td></tr><tr><td>231</td><td>17</td></tr><tr><td>232</td><td>10</td></tr><tr><td>233</td><td>12</td></tr><tr><td>234</td><td>14</td></tr><tr><td>235</td><td>10</td></tr><tr><td>236</td><td>10</td></tr><tr><td>237</td><td>12</td></tr><tr><td>238</td><td>14</td></tr><tr><td>239</td><td>10</td></tr><tr><td>240</td><td>14</td></tr><tr><td>241</td><td>18</td></tr><tr><td>242</td><td>8</td></tr><tr><td>243</td><td>8</td></tr><tr><td>244</td><td>12</td></tr><tr><td>245</td><td>4</td></tr><tr><td>246</td><td>4</td></tr><tr><td>247</td><td>8</td></tr><tr><td>248</td><td>10</td></tr><tr><td>249</td><td>28</td></tr><tr><td>250</td><td>22</td></tr><tr><td>251</td><td>10</td></tr><tr><td>252</td><td>2</td></tr><tr><td>253</td><td>10</td></tr><tr><td>254</td><td>10</td></tr><tr><td>255</td><td>8</td></tr><tr><td>256</td><td>8</td></tr><tr><td>257</td><td>6</td></tr><tr><td>258</td><td>8</td></tr><tr><td>259</td><td>10</td></tr><tr><td>260</td><td>12</td></tr><tr><td>261</td><td>20</td></tr><tr><td>262</td><td>22</td></tr><tr><td>263</td><td>6</td></tr><tr><td>264</td><td>8</td></tr><tr><td>265</td><td>12</td></tr><tr><td>266</td><td>10</td></tr><tr><td>267</td><td>8</td></tr><tr><td>268</td><td>6</td></tr><tr><td>269</td><td>14</td></tr><tr><td>270</td><td>16</td></tr><tr><td>271</td><td>12</td></tr><tr><td>272</td><td>12</td></tr><tr><td>273</td><td>20</td></tr><tr><td>274</td><td>20</td></tr><tr><td>275</td><td>10</td></tr><tr><td>276</td><td>10</td></tr><tr><td>277</td><td>14</td></tr><tr><td>278</td><td>4</td></tr><tr><td>279</td><td>22</td></tr><tr><td>280</td><td>4</td></tr><tr><td>281</td><td>18</td></tr><tr><td>282</td><td>18</td></tr><tr><td>283</td><td>8</td></tr><tr><td>284</td><td>16</td></tr><tr><td>285</td><td>16</td></tr><tr><td>286</td><td>8</td></tr><tr><td>287</td><td>10</td></tr><tr><td>288</td><td>10</td></tr><tr><td>289</td><td>12</td></tr><tr><td>290</td><td>8</td></tr><tr><td>291</td><td>10</td></tr><tr><td>292</td><td>8</td></tr><tr><td>293</td><td>4</td></tr><tr><td>294</td><td>18</td></tr><tr><td>295</td><td>10</td></tr><tr><td>296</td><td>22</td></tr><tr><td>297</td><td>8</td></tr><tr><td>298</td><td>4</td></tr><tr><td>299</td><td>10</td></tr><tr><td>300</td><td>8</td></tr><tr><td>301</td><td>4</td></tr><tr><td>302</td><td>8</td></tr><tr><td>303</td><td>14</td></tr><tr><td>304</td><td>2</td></tr><tr><td>305</td><td>14</td></tr><tr><td>306</td><td>12</td></tr><tr><td>307</td><td>16</td></tr><tr><td>308</td><td>6</td></tr><tr><td>309</td><td>8</td></tr><tr><td>310</td><td>10</td></tr><tr><td>311</td><td>16</td></tr><tr><td>312</td><td>10</td></tr><tr><td>313</td><td>10</td></tr><tr><td>314</td><td>6</td></tr><tr><td>315</td><td>12</td></tr><tr><td>316</td><td>12</td></tr><tr><td>317</td><td>20</td></tr><tr><td>318</td><td>6</td></tr><tr><td>319</td><td>8</td></tr><tr><td>320</td><td>14</td></tr><tr><td>321</td><td>8</td></tr><tr><td>322</td><td>16</td></tr><tr><td>323</td><td>10</td></tr><tr><td>324</td><td>10</td></tr><tr><td>325</td><td>10</td></tr><tr><td>326</td><td>14</td></tr><tr><td>327</td><td>10</td></tr><tr><td>328</td><td>18</td></tr><tr><td>329</td><td>6</td></tr><tr><td>330</td><td>10</td></tr><tr><td>331</td><td>6</td></tr><tr><td>332</td><td>6</td></tr><tr><td>333</td><td>8</td></tr><tr><td>334</td><td>4</td></tr><tr><td>335</td><td>4</td></tr><tr><td>336</td><td>18</td></tr><tr><td>337</td><td>10</td></tr><tr><td>338</td><td>4</td></tr><tr><td>339</td><td>10</td></tr><tr><td>340</td><td>10</td></tr><tr><td>341</td><td>10</td></tr><tr><td>342</td><td>14</td></tr><tr><td>343</td><td>12</td></tr><tr><td>344</td><td>6</td></tr><tr><td>345</td><td>12</td></tr><tr><td>346</td><td>6</td></tr><tr><td>348</td><td>8</td></tr><tr><td>349</td><td>18</td></tr><tr><td>350</td><td>14</td></tr><tr><td>351</td><td>18</td></tr><tr><td>352</td><td>16</td></tr><tr><td>353</td><td>8</td></tr><tr><td>354</td><td>12</td></tr><tr><td>355</td><td>8</td></tr><tr><td>356</td><td>6</td></tr><tr><td>357</td><td>18</td></tr><tr><td>358</td><td>10</td></tr><tr><td>359</td><td>12</td></tr><tr><td>360</td><td>8</td></tr><tr><td>361</td><td>14</td></tr><tr><td>362</td><td>20</td></tr><tr><td>363</td><td>14</td></tr><tr><td>364</td><td>6</td></tr><tr><td>365</td><td>14</td></tr><tr><td>366</td><td>10</td></tr><tr><td>367</td><td>14</td></tr><tr><td>368</td><td>6</td></tr><tr><td>369</td><td>6</td></tr><tr><td>370</td><td>18</td></tr><tr><td>371</td><td>6</td></tr><tr><td>372</td><td>8</td></tr><tr><td>373</td><td>12</td></tr><tr><td>374</td><td>14</td></tr><tr><td>375</td><td>10</td></tr><tr><td>376</td><td>4</td></tr><tr><td>377</td><td>10</td></tr><tr><td>378</td><td>4</td></tr><tr><td>379</td><td>16</td></tr><tr><td>380</td><td>14</td></tr><tr><td>381</td><td>4</td></tr><tr><td>382</td><td>8</td></tr><tr><td>383</td><td>14</td></tr><tr><td>384</td><td>6</td></tr><tr><td>385</td><td>8</td></tr><tr><td>386</td><td>16</td></tr><tr><td>387</td><td>28</td></tr><tr><td>388</td><td>18</td></tr><tr><td>389</td><td>10</td></tr><tr><td>390</td><td>12</td></tr><tr><td>391</td><td>12</td></tr><tr><td>392</td><td>10</td></tr><tr><td>393</td><td>4</td></tr><tr><td>394</td><td>10</td></tr><tr><td>395</td><td>8</td></tr><tr><td>396</td><td>8</td></tr><tr><td>397</td><td>10</td></tr><tr><td>398</td><td>26</td></tr><tr><td>399</td><td>12</td></tr><tr><td>400</td><td>16</td></tr><tr><td>401</td><td>16</td></tr><tr><td>402</td><td>12</td></tr><tr><td>403</td><td>16</td></tr><tr><td>404</td><td>18</td></tr><tr><td>405</td><td>10</td></tr><tr><td>406</td><td>24</td></tr><tr><td>407</td><td>6</td></tr><tr><td>408</td><td>10</td></tr><tr><td>409</td><td>20</td></tr><tr><td>410</td><td>20</td></tr><tr><td>411</td><td>16</td></tr><tr><td>412</td><td>8</td></tr><tr><td>413</td><td>14</td></tr><tr><td>414</td><td>16</td></tr><tr><td>415</td><td>16</td></tr><tr><td>416</td><td>8</td></tr><tr><td>417</td><td>6</td></tr><tr><td>418</td><td>6</td></tr><tr><td>419</td><td>10</td></tr><tr><td>420</td><td>12</td></tr><tr><td>421</td><td>14</td></tr><tr><td>422</td><td>10</td></tr><tr><td>423</td><td>6</td></tr><tr><td>424</td><td>14</td></tr><tr><td>425</td><td>28</td></tr><tr><td>426</td><td>2</td></tr><tr><td>427</td><td>14</td></tr><tr><td>428</td><td>6</td></tr><tr><td>429</td><td>4</td></tr><tr><td>430</td><td>8</td></tr><tr><td>431</td><td>6</td></tr><tr><td>432</td><td>4</td></tr><tr><td>433</td><td>6</td></tr><tr><td>434</td><td>8</td></tr><tr><td>435</td><td>4</td></tr><tr><td>436</td><td>16</td></tr><tr><td>437</td><td>16</td></tr><tr><td>438</td><td>12</td></tr><tr><td>439</td><td>12</td></tr><tr><td>440</td><td>18</td></tr><tr><td>441</td><td>10</td></tr><tr><td>442</td><td>12</td></tr><tr><td>443</td><td>10</td></tr><tr><td>444</td><td>20</td></tr><tr><td>445</td><td>6</td></tr><tr><td>446</td><td>12</td></tr><tr><td>447</td><td>10</td></tr><tr><td>448</td><td>6</td></tr><tr><td>449</td><td>6</td></tr><tr><td>450</td><td>16</td></tr><tr><td>451</td><td>4</td></tr><tr><td>452</td><td>10</td></tr><tr><td>453</td><td>8</td></tr><tr><td>454</td><td>6</td></tr><tr><td>455</td><td>10</td></tr><tr><td>456</td><td>18</td></tr><tr><td>457</td><td>10</td></tr><tr><td>458</td><td>6</td></tr><tr><td>459</td><td>8</td></tr><tr><td>460</td><td>16</td></tr><tr><td>461</td><td>16</td></tr><tr><td>462</td><td>16</td></tr><tr><td>463</td><td>10</td></tr><tr><td>464</td><td>16</td></tr><tr><td>465</td><td>12</td></tr><tr><td>466</td><td>6</td></tr><tr><td>467</td><td>12</td></tr><tr><td>468</td><td>12</td></tr><tr><td>469</td><td>8</td></tr><tr><td>470</td><td>12</td></tr><tr><td>471</td><td>2</td></tr><tr><td>472</td><td>8</td></tr><tr><td>473</td><td>10</td></tr><tr><td>474</td><td>8</td></tr><tr><td>475</td><td>14</td></tr><tr><td>476</td><td>8</td></tr><tr><td>477</td><td>10</td></tr><tr><td>478</td><td>6</td></tr><tr><td>479</td><td>4</td></tr><tr><td>480</td><td>6</td></tr><tr><td>481</td><td>14</td></tr><tr><td>482</td><td>16</td></tr><tr><td>483</td><td>8</td></tr><tr><td>484</td><td>6</td></tr><tr><td>485</td><td>12</td></tr><tr><td>486</td><td>8</td></tr><tr><td>487</td><td>14</td></tr><tr><td>488</td><td>8</td></tr><tr><td>489</td><td>14</td></tr><tr><td>490</td><td>10</td></tr><tr><td>491</td><td>12</td></tr><tr><td>492</td><td>6</td></tr><tr><td>493</td><td>8</td></tr><tr><td>494</td><td>8</td></tr><tr><td>495</td><td>16</td></tr><tr><td>496</td><td>6</td></tr><tr><td>497</td><td>20</td></tr><tr><td>498</td><td>12</td></tr><tr><td>499</td><td>10</td></tr><tr><td>500</td><td>4</td></tr><tr><td>501</td><td>28</td></tr><tr><td>502</td><td>12</td></tr><tr><td>503</td><td>10</td></tr><tr><td>504</td><td>10</td></tr><tr><td>505</td><td>8</td></tr><tr><td>506</td><td>8</td></tr><tr><td>507</td><td>14</td></tr><tr><td>508</td><td>6</td></tr><tr><td>509</td><td>14</td></tr><tr><td>510</td><td>10</td></tr><tr><td>511</td><td>6</td></tr><tr><td>512</td><td>12</td></tr><tr><td>513</td><td>10</td></tr><tr><td>514</td><td>14</td></tr><tr><td>515</td><td>6</td></tr><tr><td>516</td><td>14</td></tr><tr><td>517</td><td>6</td></tr><tr><td>518</td><td>8</td></tr><tr><td>519</td><td>12</td></tr><tr><td>520</td><td>12</td></tr><tr><td>521</td><td>14</td></tr><tr><td>522</td><td>14</td></tr><tr><td>523</td><td>30</td></tr><tr><td>524</td><td>4</td></tr><tr><td>525</td><td>2</td></tr><tr><td>526</td><td>12</td></tr><tr><td>527</td><td>6</td></tr><tr><td>528</td><td>14</td></tr><tr><td>529</td><td>6</td></tr><tr><td>530</td><td>8</td></tr><tr><td>531</td><td>14</td></tr><tr><td>532</td><td>6</td></tr><tr><td>533</td><td>12</td></tr><tr><td>534</td><td>12</td></tr><tr><td>535</td><td>6</td></tr><tr><td>536</td><td>12</td></tr><tr><td>537</td><td>18</td></tr><tr><td>538</td><td>10</td></tr><tr><td>539</td><td>4</td></tr><tr><td>540</td><td>6</td></tr><tr><td>541</td><td>12</td></tr><tr><td>542</td><td>10</td></tr><tr><td>543</td><td>6</td></tr><tr><td>544</td><td>6</td></tr><tr><td>546</td><td>10</td></tr><tr><td>547</td><td>8</td></tr><tr><td>548</td><td>2</td></tr><tr><td>549</td><td>12</td></tr><tr><td>550</td><td>8</td></tr><tr><td>551</td><td>18</td></tr><tr><td>552</td><td>10</td></tr><tr><td>553</td><td>8</td></tr><tr><td>554</td><td>18</td></tr><tr><td>555</td><td>6</td></tr><tr><td>556</td><td>6</td></tr><tr><td>557</td><td>20</td></tr><tr><td>558</td><td>14</td></tr><tr><td>559</td><td>10</td></tr><tr><td>560</td><td>10</td></tr><tr><td>561</td><td>16</td></tr><tr><td>562</td><td>10</td></tr><tr><td>563</td><td>18</td></tr><tr><td>564</td><td>16</td></tr><tr><td>565</td><td>12</td></tr><tr><td>566</td><td>6</td></tr><tr><td>567</td><td>10</td></tr><tr><td>568</td><td>14</td></tr><tr><td>569</td><td>14</td></tr><tr><td>570</td><td>10</td></tr><tr><td>571</td><td>10</td></tr><tr><td>572</td><td>18</td></tr><tr><td>573</td><td>8</td></tr><tr><td>574</td><td>4</td></tr><tr><td>575</td><td>8</td></tr><tr><td>576</td><td>14</td></tr><tr><td>577</td><td>12</td></tr><tr><td>578</td><td>20</td></tr><tr><td>579</td><td>12</td></tr><tr><td>580</td><td>10</td></tr><tr><td>581</td><td>10</td></tr><tr><td>582</td><td>16</td></tr><tr><td>583</td><td>16</td></tr><tr><td>584</td><td>8</td></tr><tr><td>585</td><td>6</td></tr><tr><td>586</td><td>12</td></tr><tr><td>587</td><td>6</td></tr><tr><td>588</td><td>12</td></tr><tr><td>589</td><td>2</td></tr><tr><td>590</td><td>8</td></tr><tr><td>591</td><td>12</td></tr><tr><td>592</td><td>10</td></tr><tr><td>593</td><td>4</td></tr><tr><td>594</td><td>10</td></tr><tr><td>595</td><td>12</td></tr><tr><td>596</td><td>8</td></tr><tr><td>597</td><td>6</td></tr><tr><td>598</td><td>4</td></tr><tr><td>599</td><td>6</td></tr><tr><td>600</td><td>18</td></tr><tr><td>601</td><td>10</td></tr><tr><td>602</td><td>8</td></tr><tr><td>603</td><td>12</td></tr><tr><td>604</td><td>8</td></tr><tr><td>605</td><td>16</td></tr><tr><td>606</td><td>14</td></tr><tr><td>607</td><td>8</td></tr><tr><td>608</td><td>16</td></tr><tr><td>609</td><td>8</td></tr><tr><td>610</td><td>12</td></tr><tr><td>611</td><td>14</td></tr><tr><td>612</td><td>12</td></tr><tr><td>613</td><td>20</td></tr><tr><td>614</td><td>16</td></tr><tr><td>615</td><td>8</td></tr><tr><td>616</td><td>6</td></tr><tr><td>617</td><td>16</td></tr><tr><td>618</td><td>8</td></tr><tr><td>619</td><td>14</td></tr><tr><td>620</td><td>8</td></tr><tr><td>621</td><td>18</td></tr><tr><td>622</td><td>4</td></tr><tr><td>623</td><td>6</td></tr><tr><td>624</td><td>10</td></tr><tr><td>625</td><td>24</td></tr><tr><td>626</td><td>6</td></tr><tr><td>627</td><td>4</td></tr><tr><td>628</td><td>6</td></tr><tr><td>629</td><td>20</td></tr><tr><td>630</td><td>4</td></tr><tr><td>631</td><td>12</td></tr><tr><td>632</td><td>8</td></tr><tr><td>633</td><td>8</td></tr><tr><td>634</td><td>10</td></tr><tr><td>635</td><td>16</td></tr><tr><td>636</td><td>12</td></tr><tr><td>637</td><td>12</td></tr><tr><td>638</td><td>14</td></tr><tr><td>639</td><td>14</td></tr><tr><td>640</td><td>14</td></tr><tr><td>641</td><td>10</td></tr><tr><td>642</td><td>8</td></tr><tr><td>643</td><td>14</td></tr><tr><td>644</td><td>10</td></tr><tr><td>645</td><td>10</td></tr><tr><td>646</td><td>20</td></tr><tr><td>647</td><td>10</td></tr><tr><td>648</td><td>14</td></tr><tr><td>649</td><td>10</td></tr><tr><td>650</td><td>16</td></tr><tr><td>651</td><td>10</td></tr><tr><td>652</td><td>14</td></tr><tr><td>653</td><td>8</td></tr><tr><td>654</td><td>8</td></tr><tr><td>655</td><td>4</td></tr><tr><td>656</td><td>16</td></tr><tr><td>657</td><td>10</td></tr><tr><td>658</td><td>14</td></tr><tr><td>659</td><td>10</td></tr><tr><td>660</td><td>12</td></tr><tr><td>661</td><td>8</td></tr><tr><td>662</td><td>2</td></tr><tr><td>663</td><td>10</td></tr><tr><td>664</td><td>20</td></tr><tr><td>665</td><td>10</td></tr><tr><td>666</td><td>6</td></tr><tr><td>667</td><td>6</td></tr><tr><td>668</td><td>8</td></tr><tr><td>669</td><td>8</td></tr><tr><td>670</td><td>12</td></tr><tr><td>671</td><td>18</td></tr><tr><td>672</td><td>8</td></tr><tr><td>673</td><td>12</td></tr><tr><td>674</td><td>14</td></tr><tr><td>675</td><td>10</td></tr><tr><td>676</td><td>8</td></tr><tr><td>677</td><td>8</td></tr><tr><td>678</td><td>6</td></tr><tr><td>679</td><td>6</td></tr><tr><td>680</td><td>22</td></tr><tr><td>681</td><td>4</td></tr><tr><td>682</td><td>6</td></tr><tr><td>683</td><td>8</td></tr><tr><td>684</td><td>8</td></tr><tr><td>685</td><td>14</td></tr><tr><td>686</td><td>16</td></tr><tr><td>687</td><td>8</td></tr><tr><td>688</td><td>8</td></tr><tr><td>689</td><td>14</td></tr><tr><td>690</td><td>12</td></tr><tr><td>691</td><td>12</td></tr><tr><td>692</td><td>20</td></tr><tr><td>693</td><td>4</td></tr><tr><td>694</td><td>24</td></tr><tr><td>695</td><td>10</td></tr><tr><td>696</td><td>6</td></tr><tr><td>697</td><td>12</td></tr><tr><td>698</td><td>16</td></tr><tr><td>699</td><td>16</td></tr><tr><td>700</td><td>6</td></tr><tr><td>701</td><td>18</td></tr><tr><td>702</td><td>14</td></tr><tr><td>703</td><td>8</td></tr><tr><td>704</td><td>16</td></tr><tr><td>705</td><td>10</td></tr><tr><td>706</td><td>4</td></tr><tr><td>707</td><td>10</td></tr><tr><td>708</td><td>4</td></tr><tr><td>709</td><td>8</td></tr><tr><td>710</td><td>14</td></tr><tr><td>711</td><td>8</td></tr><tr><td>712</td><td>12</td></tr><tr><td>713</td><td>8</td></tr><tr><td>714</td><td>14</td></tr><tr><td>715</td><td>10</td></tr><tr><td>716</td><td>8</td></tr><tr><td>717</td><td>12</td></tr><tr><td>718</td><td>16</td></tr><tr><td>719</td><td>14</td></tr><tr><td>720</td><td>10</td></tr><tr><td>721</td><td>4</td></tr><tr><td>722</td><td>10</td></tr><tr><td>723</td><td>14</td></tr><tr><td>724</td><td>14</td></tr><tr><td>725</td><td>4</td></tr><tr><td>726</td><td>22</td></tr><tr><td>727</td><td>12</td></tr><tr><td>728</td><td>10</td></tr><tr><td>729</td><td>4</td></tr><tr><td>730</td><td>28</td></tr><tr><td>731</td><td>16</td></tr><tr><td>732</td><td>10</td></tr><tr><td>733</td><td>10</td></tr><tr><td>734</td><td>8</td></tr><tr><td>735</td><td>12</td></tr><tr><td>736</td><td>14</td></tr><tr><td>737</td><td>10</td></tr><tr><td>738</td><td>10</td></tr><tr><td>739</td><td>10</td></tr><tr><td>740</td><td>6</td></tr><tr><td>741</td><td>22</td></tr><tr><td>742</td><td>14</td></tr><tr><td>743</td><td>8</td></tr></tbody></table></div>"
      ]
     },
     "metadata": {
      "application/vnd.databricks.v1+output": {
       "addedWidgets": {},
       "aggData": [],
       "aggError": "",
       "aggOverflow": false,
       "aggSchema": [],
       "aggSeriesLimitReached": false,
       "aggType": "",
       "arguments": {},
       "columnCustomDisplayInfos": {},
       "data": [
        [
         1,
         16
        ],
        [
         2,
         8
        ],
        [
         3,
         4
        ],
        [
         4,
         10
        ],
        [
         5,
         6
        ],
        [
         6,
         22
        ],
        [
         7,
         12
        ],
        [
         8,
         12
        ],
        [
         9,
         19
        ],
        [
         10,
         11
        ],
        [
         11,
         7
        ],
        [
         12,
         14
        ],
        [
         13,
         14
        ],
        [
         14,
         12
        ],
        [
         15,
         20
        ],
        [
         16,
         10
        ],
        [
         17,
         7
        ],
        [
         18,
         16
        ],
        [
         19,
         11
        ],
        [
         20,
         4
        ],
        [
         21,
         5
        ],
        [
         22,
         23
        ],
        [
         23,
         2
        ],
        [
         24,
         6
        ],
        [
         25,
         18
        ],
        [
         26,
         12
        ],
        [
         27,
         8
        ],
        [
         28,
         4
        ],
        [
         29,
         4
        ],
        [
         30,
         8
        ],
        [
         31,
         12
        ],
        [
         32,
         12
        ],
        [
         33,
         12
        ],
        [
         34,
         22
        ],
        [
         35,
         15
        ],
        [
         36,
         19
        ],
        [
         37,
         13
        ],
        [
         38,
         16
        ],
        [
         39,
         12
        ],
        [
         40,
         14
        ],
        [
         41,
         12
        ],
        [
         42,
         14
        ],
        [
         43,
         13
        ],
        [
         44,
         8
        ],
        [
         45,
         16
        ],
        [
         46,
         14
        ],
        [
         47,
         21
        ],
        [
         48,
         10
        ],
        [
         49,
         4
        ],
        [
         50,
         6
        ],
        [
         51,
         14
        ],
        [
         52,
         8
        ],
        [
         53,
         10
        ],
        [
         54,
         4
        ],
        [
         55,
         12
        ],
        [
         56,
         18
        ],
        [
         57,
         6
        ],
        [
         58,
         20
        ],
        [
         59,
         20
        ],
        [
         60,
         12
        ],
        [
         61,
         14
        ],
        [
         62,
         8
        ],
        [
         63,
         8
        ],
        [
         64,
         18
        ],
        [
         65,
         20
        ],
        [
         66,
         24
        ],
        [
         67,
         6
        ],
        [
         68,
         18
        ],
        [
         69,
         20
        ],
        [
         70,
         6
        ],
        [
         71,
         20
        ],
        [
         72,
         14
        ],
        [
         73,
         8
        ],
        [
         74,
         22
        ],
        [
         75,
         8
        ],
        [
         76,
         4
        ],
        [
         77,
         10
        ],
        [
         78,
         10
        ],
        [
         79,
         10
        ],
        [
         80,
         10
        ],
        [
         81,
         10
        ],
        [
         82,
         10
        ],
        [
         83,
         12
        ],
        [
         84,
         16
        ],
        [
         85,
         14
        ],
        [
         86,
         18
        ],
        [
         87,
         6
        ],
        [
         88,
         8
        ],
        [
         89,
         6
        ],
        [
         90,
         16
        ],
        [
         91,
         8
        ],
        [
         92,
         10
        ],
        [
         93,
         16
        ],
        [
         94,
         12
        ],
        [
         95,
         14
        ],
        [
         96,
         4
        ],
        [
         97,
         10
        ],
        [
         98,
         14
        ],
        [
         99,
         8
        ],
        [
         100,
         6
        ],
        [
         101,
         12
        ],
        [
         102,
         12
        ],
        [
         103,
         8
        ],
        [
         104,
         14
        ],
        [
         105,
         18
        ],
        [
         106,
         18
        ],
        [
         107,
         10
        ],
        [
         108,
         8
        ],
        [
         109,
         12
        ],
        [
         110,
         10
        ],
        [
         111,
         10
        ],
        [
         112,
         2
        ],
        [
         113,
         6
        ],
        [
         114,
         4
        ],
        [
         115,
         10
        ],
        [
         116,
         14
        ],
        [
         117,
         12
        ],
        [
         118,
         12
        ],
        [
         119,
         10
        ],
        [
         120,
         12
        ],
        [
         121,
         14
        ],
        [
         122,
         14
        ],
        [
         123,
         6
        ],
        [
         124,
         4
        ],
        [
         125,
         10
        ],
        [
         126,
         6
        ],
        [
         127,
         14
        ],
        [
         128,
         8
        ],
        [
         129,
         6
        ],
        [
         130,
         6
        ],
        [
         131,
         16
        ],
        [
         132,
         10
        ],
        [
         133,
         10
        ],
        [
         134,
         10
        ],
        [
         135,
         8
        ],
        [
         136,
         10
        ],
        [
         137,
         12
        ],
        [
         138,
         4
        ],
        [
         139,
         4
        ],
        [
         140,
         14
        ],
        [
         141,
         8
        ],
        [
         142,
         8
        ],
        [
         143,
         16
        ],
        [
         144,
         10
        ],
        [
         145,
         14
        ],
        [
         146,
         10
        ],
        [
         147,
         6
        ],
        [
         148,
         12
        ],
        [
         149,
         22
        ],
        [
         150,
         14
        ],
        [
         151,
         18
        ],
        [
         152,
         6
        ],
        [
         153,
         10
        ],
        [
         154,
         10
        ],
        [
         155,
         8
        ],
        [
         156,
         18
        ],
        [
         157,
         16
        ],
        [
         158,
         8
        ],
        [
         159,
         10
        ],
        [
         160,
         26
        ],
        [
         161,
         14
        ],
        [
         162,
         10
        ],
        [
         163,
         8
        ],
        [
         164,
         14
        ],
        [
         165,
         4
        ],
        [
         166,
         6
        ],
        [
         167,
         6
        ],
        [
         168,
         2
        ],
        [
         169,
         10
        ],
        [
         170,
         16
        ],
        [
         171,
         14
        ],
        [
         172,
         10
        ],
        [
         173,
         14
        ],
        [
         174,
         10
        ],
        [
         175,
         8
        ],
        [
         176,
         10
        ],
        [
         177,
         18
        ],
        [
         178,
         14
        ],
        [
         179,
         8
        ],
        [
         180,
         10
        ],
        [
         181,
         11
        ],
        [
         182,
         8
        ],
        [
         183,
         16
        ],
        [
         184,
         8
        ],
        [
         185,
         16
        ],
        [
         186,
         17
        ],
        [
         187,
         10
        ],
        [
         188,
         10
        ],
        [
         189,
         10
        ],
        [
         190,
         8
        ],
        [
         191,
         12
        ],
        [
         192,
         10
        ],
        [
         193,
         8
        ],
        [
         194,
         12
        ],
        [
         195,
         10
        ],
        [
         196,
         8
        ],
        [
         197,
         4
        ],
        [
         198,
         12
        ],
        [
         199,
         10
        ],
        [
         200,
         8
        ],
        [
         201,
         8
        ],
        [
         202,
         2
        ],
        [
         203,
         8
        ],
        [
         204,
         6
        ],
        [
         205,
         16
        ],
        [
         206,
         12
        ],
        [
         207,
         6
        ],
        [
         208,
         21
        ],
        [
         209,
         6
        ],
        [
         210,
         8
        ],
        [
         211,
         14
        ],
        [
         212,
         40
        ],
        [
         213,
         8
        ],
        [
         214,
         12
        ],
        [
         215,
         10
        ],
        [
         216,
         6
        ],
        [
         217,
         16
        ],
        [
         218,
         12
        ],
        [
         219,
         10
        ],
        [
         220,
         6
        ],
        [
         221,
         10
        ],
        [
         222,
         8
        ],
        [
         223,
         8
        ],
        [
         224,
         10
        ],
        [
         225,
         12
        ],
        [
         226,
         12
        ],
        [
         227,
         14
        ],
        [
         228,
         16
        ],
        [
         229,
         8
        ],
        [
         230,
         17
        ],
        [
         231,
         17
        ],
        [
         232,
         10
        ],
        [
         233,
         12
        ],
        [
         234,
         14
        ],
        [
         235,
         10
        ],
        [
         236,
         10
        ],
        [
         237,
         12
        ],
        [
         238,
         14
        ],
        [
         239,
         10
        ],
        [
         240,
         14
        ],
        [
         241,
         18
        ],
        [
         242,
         8
        ],
        [
         243,
         8
        ],
        [
         244,
         12
        ],
        [
         245,
         4
        ],
        [
         246,
         4
        ],
        [
         247,
         8
        ],
        [
         248,
         10
        ],
        [
         249,
         28
        ],
        [
         250,
         22
        ],
        [
         251,
         10
        ],
        [
         252,
         2
        ],
        [
         253,
         10
        ],
        [
         254,
         10
        ],
        [
         255,
         8
        ],
        [
         256,
         8
        ],
        [
         257,
         6
        ],
        [
         258,
         8
        ],
        [
         259,
         10
        ],
        [
         260,
         12
        ],
        [
         261,
         20
        ],
        [
         262,
         22
        ],
        [
         263,
         6
        ],
        [
         264,
         8
        ],
        [
         265,
         12
        ],
        [
         266,
         10
        ],
        [
         267,
         8
        ],
        [
         268,
         6
        ],
        [
         269,
         14
        ],
        [
         270,
         16
        ],
        [
         271,
         12
        ],
        [
         272,
         12
        ],
        [
         273,
         20
        ],
        [
         274,
         20
        ],
        [
         275,
         10
        ],
        [
         276,
         10
        ],
        [
         277,
         14
        ],
        [
         278,
         4
        ],
        [
         279,
         22
        ],
        [
         280,
         4
        ],
        [
         281,
         18
        ],
        [
         282,
         18
        ],
        [
         283,
         8
        ],
        [
         284,
         16
        ],
        [
         285,
         16
        ],
        [
         286,
         8
        ],
        [
         287,
         10
        ],
        [
         288,
         10
        ],
        [
         289,
         12
        ],
        [
         290,
         8
        ],
        [
         291,
         10
        ],
        [
         292,
         8
        ],
        [
         293,
         4
        ],
        [
         294,
         18
        ],
        [
         295,
         10
        ],
        [
         296,
         22
        ],
        [
         297,
         8
        ],
        [
         298,
         4
        ],
        [
         299,
         10
        ],
        [
         300,
         8
        ],
        [
         301,
         4
        ],
        [
         302,
         8
        ],
        [
         303,
         14
        ],
        [
         304,
         2
        ],
        [
         305,
         14
        ],
        [
         306,
         12
        ],
        [
         307,
         16
        ],
        [
         308,
         6
        ],
        [
         309,
         8
        ],
        [
         310,
         10
        ],
        [
         311,
         16
        ],
        [
         312,
         10
        ],
        [
         313,
         10
        ],
        [
         314,
         6
        ],
        [
         315,
         12
        ],
        [
         316,
         12
        ],
        [
         317,
         20
        ],
        [
         318,
         6
        ],
        [
         319,
         8
        ],
        [
         320,
         14
        ],
        [
         321,
         8
        ],
        [
         322,
         16
        ],
        [
         323,
         10
        ],
        [
         324,
         10
        ],
        [
         325,
         10
        ],
        [
         326,
         14
        ],
        [
         327,
         10
        ],
        [
         328,
         18
        ],
        [
         329,
         6
        ],
        [
         330,
         10
        ],
        [
         331,
         6
        ],
        [
         332,
         6
        ],
        [
         333,
         8
        ],
        [
         334,
         4
        ],
        [
         335,
         4
        ],
        [
         336,
         18
        ],
        [
         337,
         10
        ],
        [
         338,
         4
        ],
        [
         339,
         10
        ],
        [
         340,
         10
        ],
        [
         341,
         10
        ],
        [
         342,
         14
        ],
        [
         343,
         12
        ],
        [
         344,
         6
        ],
        [
         345,
         12
        ],
        [
         346,
         6
        ],
        [
         348,
         8
        ],
        [
         349,
         18
        ],
        [
         350,
         14
        ],
        [
         351,
         18
        ],
        [
         352,
         16
        ],
        [
         353,
         8
        ],
        [
         354,
         12
        ],
        [
         355,
         8
        ],
        [
         356,
         6
        ],
        [
         357,
         18
        ],
        [
         358,
         10
        ],
        [
         359,
         12
        ],
        [
         360,
         8
        ],
        [
         361,
         14
        ],
        [
         362,
         20
        ],
        [
         363,
         14
        ],
        [
         364,
         6
        ],
        [
         365,
         14
        ],
        [
         366,
         10
        ],
        [
         367,
         14
        ],
        [
         368,
         6
        ],
        [
         369,
         6
        ],
        [
         370,
         18
        ],
        [
         371,
         6
        ],
        [
         372,
         8
        ],
        [
         373,
         12
        ],
        [
         374,
         14
        ],
        [
         375,
         10
        ],
        [
         376,
         4
        ],
        [
         377,
         10
        ],
        [
         378,
         4
        ],
        [
         379,
         16
        ],
        [
         380,
         14
        ],
        [
         381,
         4
        ],
        [
         382,
         8
        ],
        [
         383,
         14
        ],
        [
         384,
         6
        ],
        [
         385,
         8
        ],
        [
         386,
         16
        ],
        [
         387,
         28
        ],
        [
         388,
         18
        ],
        [
         389,
         10
        ],
        [
         390,
         12
        ],
        [
         391,
         12
        ],
        [
         392,
         10
        ],
        [
         393,
         4
        ],
        [
         394,
         10
        ],
        [
         395,
         8
        ],
        [
         396,
         8
        ],
        [
         397,
         10
        ],
        [
         398,
         26
        ],
        [
         399,
         12
        ],
        [
         400,
         16
        ],
        [
         401,
         16
        ],
        [
         402,
         12
        ],
        [
         403,
         16
        ],
        [
         404,
         18
        ],
        [
         405,
         10
        ],
        [
         406,
         24
        ],
        [
         407,
         6
        ],
        [
         408,
         10
        ],
        [
         409,
         20
        ],
        [
         410,
         20
        ],
        [
         411,
         16
        ],
        [
         412,
         8
        ],
        [
         413,
         14
        ],
        [
         414,
         16
        ],
        [
         415,
         16
        ],
        [
         416,
         8
        ],
        [
         417,
         6
        ],
        [
         418,
         6
        ],
        [
         419,
         10
        ],
        [
         420,
         12
        ],
        [
         421,
         14
        ],
        [
         422,
         10
        ],
        [
         423,
         6
        ],
        [
         424,
         14
        ],
        [
         425,
         28
        ],
        [
         426,
         2
        ],
        [
         427,
         14
        ],
        [
         428,
         6
        ],
        [
         429,
         4
        ],
        [
         430,
         8
        ],
        [
         431,
         6
        ],
        [
         432,
         4
        ],
        [
         433,
         6
        ],
        [
         434,
         8
        ],
        [
         435,
         4
        ],
        [
         436,
         16
        ],
        [
         437,
         16
        ],
        [
         438,
         12
        ],
        [
         439,
         12
        ],
        [
         440,
         18
        ],
        [
         441,
         10
        ],
        [
         442,
         12
        ],
        [
         443,
         10
        ],
        [
         444,
         20
        ],
        [
         445,
         6
        ],
        [
         446,
         12
        ],
        [
         447,
         10
        ],
        [
         448,
         6
        ],
        [
         449,
         6
        ],
        [
         450,
         16
        ],
        [
         451,
         4
        ],
        [
         452,
         10
        ],
        [
         453,
         8
        ],
        [
         454,
         6
        ],
        [
         455,
         10
        ],
        [
         456,
         18
        ],
        [
         457,
         10
        ],
        [
         458,
         6
        ],
        [
         459,
         8
        ],
        [
         460,
         16
        ],
        [
         461,
         16
        ],
        [
         462,
         16
        ],
        [
         463,
         10
        ],
        [
         464,
         16
        ],
        [
         465,
         12
        ],
        [
         466,
         6
        ],
        [
         467,
         12
        ],
        [
         468,
         12
        ],
        [
         469,
         8
        ],
        [
         470,
         12
        ],
        [
         471,
         2
        ],
        [
         472,
         8
        ],
        [
         473,
         10
        ],
        [
         474,
         8
        ],
        [
         475,
         14
        ],
        [
         476,
         8
        ],
        [
         477,
         10
        ],
        [
         478,
         6
        ],
        [
         479,
         4
        ],
        [
         480,
         6
        ],
        [
         481,
         14
        ],
        [
         482,
         16
        ],
        [
         483,
         8
        ],
        [
         484,
         6
        ],
        [
         485,
         12
        ],
        [
         486,
         8
        ],
        [
         487,
         14
        ],
        [
         488,
         8
        ],
        [
         489,
         14
        ],
        [
         490,
         10
        ],
        [
         491,
         12
        ],
        [
         492,
         6
        ],
        [
         493,
         8
        ],
        [
         494,
         8
        ],
        [
         495,
         16
        ],
        [
         496,
         6
        ],
        [
         497,
         20
        ],
        [
         498,
         12
        ],
        [
         499,
         10
        ],
        [
         500,
         4
        ],
        [
         501,
         28
        ],
        [
         502,
         12
        ],
        [
         503,
         10
        ],
        [
         504,
         10
        ],
        [
         505,
         8
        ],
        [
         506,
         8
        ],
        [
         507,
         14
        ],
        [
         508,
         6
        ],
        [
         509,
         14
        ],
        [
         510,
         10
        ],
        [
         511,
         6
        ],
        [
         512,
         12
        ],
        [
         513,
         10
        ],
        [
         514,
         14
        ],
        [
         515,
         6
        ],
        [
         516,
         14
        ],
        [
         517,
         6
        ],
        [
         518,
         8
        ],
        [
         519,
         12
        ],
        [
         520,
         12
        ],
        [
         521,
         14
        ],
        [
         522,
         14
        ],
        [
         523,
         30
        ],
        [
         524,
         4
        ],
        [
         525,
         2
        ],
        [
         526,
         12
        ],
        [
         527,
         6
        ],
        [
         528,
         14
        ],
        [
         529,
         6
        ],
        [
         530,
         8
        ],
        [
         531,
         14
        ],
        [
         532,
         6
        ],
        [
         533,
         12
        ],
        [
         534,
         12
        ],
        [
         535,
         6
        ],
        [
         536,
         12
        ],
        [
         537,
         18
        ],
        [
         538,
         10
        ],
        [
         539,
         4
        ],
        [
         540,
         6
        ],
        [
         541,
         12
        ],
        [
         542,
         10
        ],
        [
         543,
         6
        ],
        [
         544,
         6
        ],
        [
         546,
         10
        ],
        [
         547,
         8
        ],
        [
         548,
         2
        ],
        [
         549,
         12
        ],
        [
         550,
         8
        ],
        [
         551,
         18
        ],
        [
         552,
         10
        ],
        [
         553,
         8
        ],
        [
         554,
         18
        ],
        [
         555,
         6
        ],
        [
         556,
         6
        ],
        [
         557,
         20
        ],
        [
         558,
         14
        ],
        [
         559,
         10
        ],
        [
         560,
         10
        ],
        [
         561,
         16
        ],
        [
         562,
         10
        ],
        [
         563,
         18
        ],
        [
         564,
         16
        ],
        [
         565,
         12
        ],
        [
         566,
         6
        ],
        [
         567,
         10
        ],
        [
         568,
         14
        ],
        [
         569,
         14
        ],
        [
         570,
         10
        ],
        [
         571,
         10
        ],
        [
         572,
         18
        ],
        [
         573,
         8
        ],
        [
         574,
         4
        ],
        [
         575,
         8
        ],
        [
         576,
         14
        ],
        [
         577,
         12
        ],
        [
         578,
         20
        ],
        [
         579,
         12
        ],
        [
         580,
         10
        ],
        [
         581,
         10
        ],
        [
         582,
         16
        ],
        [
         583,
         16
        ],
        [
         584,
         8
        ],
        [
         585,
         6
        ],
        [
         586,
         12
        ],
        [
         587,
         6
        ],
        [
         588,
         12
        ],
        [
         589,
         2
        ],
        [
         590,
         8
        ],
        [
         591,
         12
        ],
        [
         592,
         10
        ],
        [
         593,
         4
        ],
        [
         594,
         10
        ],
        [
         595,
         12
        ],
        [
         596,
         8
        ],
        [
         597,
         6
        ],
        [
         598,
         4
        ],
        [
         599,
         6
        ],
        [
         600,
         18
        ],
        [
         601,
         10
        ],
        [
         602,
         8
        ],
        [
         603,
         12
        ],
        [
         604,
         8
        ],
        [
         605,
         16
        ],
        [
         606,
         14
        ],
        [
         607,
         8
        ],
        [
         608,
         16
        ],
        [
         609,
         8
        ],
        [
         610,
         12
        ],
        [
         611,
         14
        ],
        [
         612,
         12
        ],
        [
         613,
         20
        ],
        [
         614,
         16
        ],
        [
         615,
         8
        ],
        [
         616,
         6
        ],
        [
         617,
         16
        ],
        [
         618,
         8
        ],
        [
         619,
         14
        ],
        [
         620,
         8
        ],
        [
         621,
         18
        ],
        [
         622,
         4
        ],
        [
         623,
         6
        ],
        [
         624,
         10
        ],
        [
         625,
         24
        ],
        [
         626,
         6
        ],
        [
         627,
         4
        ],
        [
         628,
         6
        ],
        [
         629,
         20
        ],
        [
         630,
         4
        ],
        [
         631,
         12
        ],
        [
         632,
         8
        ],
        [
         633,
         8
        ],
        [
         634,
         10
        ],
        [
         635,
         16
        ],
        [
         636,
         12
        ],
        [
         637,
         12
        ],
        [
         638,
         14
        ],
        [
         639,
         14
        ],
        [
         640,
         14
        ],
        [
         641,
         10
        ],
        [
         642,
         8
        ],
        [
         643,
         14
        ],
        [
         644,
         10
        ],
        [
         645,
         10
        ],
        [
         646,
         20
        ],
        [
         647,
         10
        ],
        [
         648,
         14
        ],
        [
         649,
         10
        ],
        [
         650,
         16
        ],
        [
         651,
         10
        ],
        [
         652,
         14
        ],
        [
         653,
         8
        ],
        [
         654,
         8
        ],
        [
         655,
         4
        ],
        [
         656,
         16
        ],
        [
         657,
         10
        ],
        [
         658,
         14
        ],
        [
         659,
         10
        ],
        [
         660,
         12
        ],
        [
         661,
         8
        ],
        [
         662,
         2
        ],
        [
         663,
         10
        ],
        [
         664,
         20
        ],
        [
         665,
         10
        ],
        [
         666,
         6
        ],
        [
         667,
         6
        ],
        [
         668,
         8
        ],
        [
         669,
         8
        ],
        [
         670,
         12
        ],
        [
         671,
         18
        ],
        [
         672,
         8
        ],
        [
         673,
         12
        ],
        [
         674,
         14
        ],
        [
         675,
         10
        ],
        [
         676,
         8
        ],
        [
         677,
         8
        ],
        [
         678,
         6
        ],
        [
         679,
         6
        ],
        [
         680,
         22
        ],
        [
         681,
         4
        ],
        [
         682,
         6
        ],
        [
         683,
         8
        ],
        [
         684,
         8
        ],
        [
         685,
         14
        ],
        [
         686,
         16
        ],
        [
         687,
         8
        ],
        [
         688,
         8
        ],
        [
         689,
         14
        ],
        [
         690,
         12
        ],
        [
         691,
         12
        ],
        [
         692,
         20
        ],
        [
         693,
         4
        ],
        [
         694,
         24
        ],
        [
         695,
         10
        ],
        [
         696,
         6
        ],
        [
         697,
         12
        ],
        [
         698,
         16
        ],
        [
         699,
         16
        ],
        [
         700,
         6
        ],
        [
         701,
         18
        ],
        [
         702,
         14
        ],
        [
         703,
         8
        ],
        [
         704,
         16
        ],
        [
         705,
         10
        ],
        [
         706,
         4
        ],
        [
         707,
         10
        ],
        [
         708,
         4
        ],
        [
         709,
         8
        ],
        [
         710,
         14
        ],
        [
         711,
         8
        ],
        [
         712,
         12
        ],
        [
         713,
         8
        ],
        [
         714,
         14
        ],
        [
         715,
         10
        ],
        [
         716,
         8
        ],
        [
         717,
         12
        ],
        [
         718,
         16
        ],
        [
         719,
         14
        ],
        [
         720,
         10
        ],
        [
         721,
         4
        ],
        [
         722,
         10
        ],
        [
         723,
         14
        ],
        [
         724,
         14
        ],
        [
         725,
         4
        ],
        [
         726,
         22
        ],
        [
         727,
         12
        ],
        [
         728,
         10
        ],
        [
         729,
         4
        ],
        [
         730,
         28
        ],
        [
         731,
         16
        ],
        [
         732,
         10
        ],
        [
         733,
         10
        ],
        [
         734,
         8
        ],
        [
         735,
         12
        ],
        [
         736,
         14
        ],
        [
         737,
         10
        ],
        [
         738,
         10
        ],
        [
         739,
         10
        ],
        [
         740,
         6
        ],
        [
         741,
         22
        ],
        [
         742,
         14
        ],
        [
         743,
         8
        ]
       ],
       "datasetInfos": [],
       "dbfsResultPath": null,
       "isJsonSchema": true,
       "metadata": {},
       "overflow": false,
       "plotOptions": {
        "customPlotOptions": {},
        "displayType": "table",
        "pivotAggregation": null,
        "pivotColumns": null,
        "xColumns": null,
        "yColumns": null
       },
       "removedWidgets": [],
       "schema": [
        {
         "metadata": "{}",
         "name": "step",
         "type": "\"integer\""
        },
        {
         "metadata": "{}",
         "name": "fraudes",
         "type": "\"long\""
        }
       ],
       "type": "table"
      }
     },
     "output_type": "display_data"
    }
   ],
   "source": [
    "# 5. Evolução das fraudes ao longo do tempo\n",
    "# spark.sql(\"\"\"\n",
    "# SELECT step, COUNT(*) AS fraudes\n",
    "# FROM transactions\n",
    "# WHERE isFraud = 1\n",
    "# GROUP BY step\n",
    "# ORDER BY step\n",
    "# \"\"\").show()\n",
    "\n",
    "df_fraudes_tempo = spark.sql(\"\"\"\n",
    "SELECT step, COUNT(*) AS fraudes\n",
    "FROM transactions\n",
    "WHERE isFraud = 1\n",
    "GROUP BY step\n",
    "ORDER BY step\n",
    "\"\"\")\n",
    "display(df_fraudes_tempo)"
   ]
  },
  {
   "cell_type": "code",
   "execution_count": 0,
   "metadata": {
    "application/vnd.databricks.v1+cell": {
     "cellMetadata": {
      "byteLimit": 2048000,
      "rowLimit": 10000
     },
     "inputWidgets": {},
     "nuid": "c2d46bc7-20cf-4eeb-a82d-196a28bb92fe",
     "showTitle": false,
     "tableResultSettingsMap": {},
     "title": ""
    }
   },
   "outputs": [
    {
     "output_type": "display_data",
     "data": {
      "image/png": "[encoded data removed]",
      "text/plain": [
       "<Figure size 1200x600 with 1 Axes>"
      ]
     },
     "metadata": {},
     "output_type": "display_data"
    },
    {
     "output_type": "display_data",
     "data": {
      "image/png": "[encoded data removed]",
      "text/plain": [
       "<Figure size 800x500 with 1 Axes>"
      ]
     },
     "metadata": {},
     "output_type": "display_data"
    }
   ],
   "source": [
    "import matplotlib.pyplot as plt\n",
    "import seaborn as sns\n",
    "\n",
    "# 1. Frequência por tipo de transação\n",
    "df_tipo = spark.sql(\"\"\"\n",
    "SELECT type, COUNT(*) AS total_transacoes\n",
    "FROM transactions\n",
    "GROUP BY type\n",
    "ORDER BY total_transacoes DESC\n",
    "\"\"\")\n",
    "df_tipo_pd = df_tipo.toPandas()\n",
    "\n",
    "# 2. Valor médio por tipo de transação\n",
    "df_valor_medio = spark.sql(\"\"\"\n",
    "SELECT type, ROUND(AVG(amount), 2) AS valor_medio\n",
    "FROM transactions\n",
    "GROUP BY type\n",
    "ORDER BY valor_medio DESC\n",
    "\"\"\")\n",
    "\n",
    "# 3. Transações fraudulentas por tipo\n",
    "df_fraudes_tipo = spark.sql(\"\"\"\n",
    "SELECT type, COUNT(*) AS total_fraudes\n",
    "FROM transactions\n",
    "WHERE isFraud = 1\n",
    "GROUP BY type\n",
    "ORDER BY total_fraudes DESC\n",
    "\"\"\")\n",
    "df_fraudes_tipo_pd = df_fraudes_tipo.toPandas()\n",
    "\n",
    "# 4. Top clientes com mais transações\n",
    "df_top_clientes = spark.sql(\"\"\"\n",
    "SELECT nameOrig, COUNT(*) AS transacoes\n",
    "FROM transactions\n",
    "GROUP BY nameOrig\n",
    "ORDER BY transacoes DESC\n",
    "LIMIT 10\n",
    "\"\"\")\n",
    "\n",
    "# 5. Evolução das fraudes ao longo do tempo\n",
    "df_fraudes_tempo = spark.sql(\"\"\"\n",
    "SELECT step, COUNT(*) AS fraudes\n",
    "FROM transactions\n",
    "WHERE isFraud = 1\n",
    "GROUP BY step\n",
    "ORDER BY step\n",
    "\"\"\")\n",
    "df_fraudes_tempo_pd = df_fraudes_tempo.toPandas()\n",
    "\n",
    "# Gráfico de fraudes ao longo do tempo\n",
    "plt.figure(figsize=(12, 6))\n",
    "sns.lineplot(data=df_fraudes_tempo_pd, x=\"step\", y=\"fraudes\", marker=\"o\")\n",
    "plt.title(\"Evolução das fraudes ao longo do tempo\")\n",
    "plt.xlabel(\"Passo de tempo (step)\")\n",
    "plt.ylabel(\"Número de fraudes\")\n",
    "plt.grid(True)\n",
    "plt.tight_layout()\n",
    "plt.show()\n",
    "\n",
    "# Gráfico de fraudes por tipo de transação\n",
    "plt.figure(figsize=(8, 5))\n",
    "sns.barplot(data=df_fraudes_tipo_pd, x=\"total_fraudes\", y=\"type\", palette=\"viridis\")\n",
    "plt.title(\"Fraudes por Tipo de Transação\")\n",
    "plt.xlabel(\"Total de Fraudes\")\n",
    "plt.ylabel(\"Tipo de Transação\")\n",
    "plt.tight_layout()\n",
    "plt.show()"
   ]
  },
  {
   "cell_type": "code",
   "execution_count": 0,
   "metadata": {
    "application/vnd.databricks.v1+cell": {
     "cellMetadata": {
      "byteLimit": 2048000,
      "rowLimit": 10000
     },
     "inputWidgets": {},
     "nuid": "7de2618b-0f7e-4a4f-bb68-3b6da48d3cea",
     "showTitle": false,
     "tableResultSettingsMap": {},
     "title": ""
    }
   },
   "outputs": [
    {
     "output_type": "stream",
     "name": "stdout",
     "output_type": "stream",
     "text": [
      "Coeficientes: [1.0111707514527803,-0.02470431056913357]\nIntercepto: 16358.827932638098\nR²: 0.9976329878525427\nErro Médio Quadrático (RMSE): 142260.64763890885\n"
     ]
    }
   ],
   "source": [
    "# --- REGRESSÃO LINEAR PARA PREVER SALDO FINAL (newbalanceOrig) ---\n",
    "\n",
    "from pyspark.ml.feature import VectorAssembler\n",
    "from pyspark.ml.regression import LinearRegression\n",
    "\n",
    "# Seleciona colunas relevantes\n",
    "data = df.select(\"oldbalanceOrg\", \"amount\", \"newbalanceOrig\").dropna()\n",
    "\n",
    "# Prepara os dados para ML\n",
    "vec_assembler = VectorAssembler(inputCols=[\"oldbalanceOrg\", \"amount\"], outputCol=\"features\")\n",
    "data_ml = vec_assembler.transform(data).select(\"features\", \"newbalanceOrig\")\n",
    "\n",
    "# Treina o modelo de regressão linear\n",
    "lr = LinearRegression(featuresCol=\"features\", labelCol=\"newbalanceOrig\")\n",
    "lr_model = lr.fit(data_ml)\n",
    "\n",
    "# Resultados do modelo\n",
    "print(\"Coeficientes:\", lr_model.coefficients)\n",
    "print(\"Intercepto:\", lr_model.intercept)\n",
    "print(\"R²:\", lr_model.summary.r2)\n",
    "print(\"Erro Médio Quadrático (RMSE):\", lr_model.summary.rootMeanSquaredError)\n"
   ]
  },
  {
   "cell_type": "code",
   "execution_count": 0,
   "metadata": {
    "application/vnd.databricks.v1+cell": {
     "cellMetadata": {
      "byteLimit": 2048000,
      "rowLimit": 10000
     },
     "inputWidgets": {},
     "nuid": "739b3592-4e42-4cae-aff0-9eb13ace6243",
     "showTitle": false,
     "tableResultSettingsMap": {},
     "title": ""
    }
   },
   "outputs": [],
   "source": [
    "# Previsão com valores reais x previstos\n",
    "predictions = lr_model.transform(data_ml).select(\"newbalanceOrig\", \"prediction\")\n",
    "predictions_pd = predictions.toPandas()"
   ]
  },
  {
   "cell_type": "code",
   "execution_count": 0,
   "metadata": {
    "application/vnd.databricks.v1+cell": {
     "cellMetadata": {
      "byteLimit": 2048000,
      "rowLimit": 10000
     },
     "inputWidgets": {},
     "nuid": "d562cb33-b874-4817-a385-6f34851bca01",
     "showTitle": false,
     "tableResultSettingsMap": {},
     "title": ""
    }
   },
   "outputs": [
    {
     "output_type": "display_data",
     "data": {
      "image/png": "[encoded data removed]",
      "text/plain": [
       "<Figure size 1000x600 with 1 Axes>"
      ]
     },
     "metadata": {},
     "output_type": "display_data"
    }
   ],
   "source": [
    "# Gráfico: valores reais vs previstos\n",
    "plt.figure(figsize=(10, 6))\n",
    "sns.scatterplot(x=\"newbalanceOrig\", y=\"prediction\", data=predictions_pd, alpha=0.3)\n",
    "plt.plot([0, predictions_pd.max().max()], [0, predictions_pd.max().max()], 'r--')\n",
    "plt.xlabel(\"Valor Real\")\n",
    "plt.ylabel(\"Valor Previsto\")\n",
    "plt.title(\"Regressão Linear - Valor Real vs Previsto\")\n",
    "plt.tight_layout()\n",
    "plt.grid(True)\n",
    "plt.show()\n"
   ]
  },
  {
   "cell_type": "code",
   "execution_count": 0,
   "metadata": {
    "application/vnd.databricks.v1+cell": {
     "cellMetadata": {
      "byteLimit": 2048000,
      "rowLimit": 10000
     },
     "inputWidgets": {},
     "nuid": "866a4e8c-0c5a-4082-aa1e-aee02100e0de",
     "showTitle": false,
     "tableResultSettingsMap": {},
     "title": ""
    }
   },
   "outputs": [
    {
     "output_type": "stream",
     "name": "stdout",
     "output_type": "stream",
     "text": [
      "Acurácia: 0.9991676384885472\nPrecisão: [0.9992490557367345, 0.8684011113917656]\nRecall: [0.9999180096584938, 0.4186046511627907]\nF1 Score: [0.9995834207761651, 0.5649030561945448]\n"
     ]
    }
   ],
   "source": [
    "# --- REGRESSÃO LOGÍSTICA PARA DETECÇÃO DE FRAUDE ---\n",
    "\n",
    "from pyspark.ml.classification import LogisticRegression\n",
    "\n",
    "# Seleciona colunas e remove nulos\n",
    "data_clf = df.select(\"amount\", \"oldbalanceOrg\", \"newbalanceOrig\", \"isFraud\").dropna()\n",
    "\n",
    "# Prepara os dados para classificação\n",
    "vec_assembler_clf = VectorAssembler(inputCols=[\"amount\", \"oldbalanceOrg\", \"newbalanceOrig\"], outputCol=\"features\")\n",
    "data_clf_ml = vec_assembler_clf.transform(data_clf).select(\"features\", \"isFraud\")\n",
    "\n",
    "# Treina o modelo de regressão logística\n",
    "log_reg = LogisticRegression(featuresCol=\"features\", labelCol=\"isFraud\")\n",
    "log_model = log_reg.fit(data_clf_ml)\n",
    "\n",
    "# Avaliação\n",
    "training_summary = log_model.summary\n",
    "print(\"Acurácia:\", training_summary.accuracy)\n",
    "print(\"Precisão:\", training_summary.precisionByLabel)\n",
    "print(\"Recall:\", training_summary.recallByLabel)\n",
    "print(\"F1 Score:\", training_summary.fMeasureByLabel())"
   ]
  },
  {
   "cell_type": "code",
   "execution_count": 0,
   "metadata": {
    "application/vnd.databricks.v1+cell": {
     "cellMetadata": {
      "byteLimit": 2048000,
      "rowLimit": 10000
     },
     "inputWidgets": {},
     "nuid": "d44dfa72-f420-440a-b6de-62ec15e52b6a",
     "showTitle": false,
     "tableResultSettingsMap": {},
     "title": ""
    }
   },
   "outputs": [],
   "source": [
    "from pyspark.sql import SparkSession\n",
    "from pyspark.sql.functions import col, monotonically_increasing_id, row_number, dense_rank\n",
    "from pyspark.sql.window import Window\n",
    "import matplotlib.pyplot as plt\n",
    "import seaborn as sns\n",
    "\n",
    "\n",
    "# =====================================\n",
    "# CRIAÇÃO DO MODELO EM ESQUEMA ESTRELA\n",
    "# =====================================\n",
    "\n",
    "# Dimensão Tipo de Transação\n",
    "window_tipo = Window.orderBy(\"type\")\n",
    "dim_tipo = df.select(\"type\").distinct().withColumn(\"tipo_id\", row_number().over(window_tipo))\n",
    "dim_tipo = dim_tipo.select(\"tipo_id\", \"type\")\n"
   ]
  },
  {
   "cell_type": "code",
   "execution_count": 0,
   "metadata": {
    "application/vnd.databricks.v1+cell": {
     "cellMetadata": {
      "byteLimit": 2048000,
      "rowLimit": 10000
     },
     "inputWidgets": {},
     "nuid": "5140eccc-7fe5-4e02-983b-e628dc270ca1",
     "showTitle": false,
     "tableResultSettingsMap": {},
     "title": ""
    }
   },
   "outputs": [],
   "source": [
    "# Dimensão Cliente (Origem)\n",
    "window_cli = Window.orderBy(\"nameOrig\")\n",
    "dim_cliente = df.select(\"nameOrig\").distinct().withColumn(\"cliente_id\", row_number().over(window_cli))\n",
    "dim_cliente = dim_cliente.select(\"cliente_id\", col(\"nameOrig\").alias(\"nome_cliente\"))"
   ]
  },
  {
   "cell_type": "code",
   "execution_count": 0,
   "metadata": {
    "application/vnd.databricks.v1+cell": {
     "cellMetadata": {
      "byteLimit": 2048000,
      "rowLimit": 10000
     },
     "inputWidgets": {},
     "nuid": "a7b5697b-2c7b-4cdd-83b9-cdb70e0c94d0",
     "showTitle": false,
     "tableResultSettingsMap": {},
     "title": ""
    }
   },
   "outputs": [],
   "source": [
    "# Dimensão Destinatário\n",
    "window_dest = Window.orderBy(\"nameDest\")\n",
    "dim_dest = df.select(\"nameDest\").distinct().withColumn(\"destinatario_id\", row_number().over(window_dest))\n",
    "dim_dest = dim_dest.select(\"destinatario_id\", col(\"nameDest\").alias(\"nome_destinatario\"))"
   ]
  },
  {
   "cell_type": "code",
   "execution_count": 0,
   "metadata": {
    "application/vnd.databricks.v1+cell": {
     "cellMetadata": {
      "byteLimit": 2048000,
      "rowLimit": 10000
     },
     "inputWidgets": {},
     "nuid": "1532290d-3fb7-46e3-9600-3236b2e6c65d",
     "showTitle": false,
     "tableResultSettingsMap": {},
     "title": ""
    }
   },
   "outputs": [],
   "source": [
    "# Dimensão Tempo (apenas com step neste caso)\n",
    "dim_tempo = df.select(\"step\").distinct().orderBy(\"step\")"
   ]
  },
  {
   "cell_type": "code",
   "execution_count": 0,
   "metadata": {
    "application/vnd.databricks.v1+cell": {
     "cellMetadata": {
      "byteLimit": 2048000,
      "rowLimit": 10000
     },
     "inputWidgets": {},
     "nuid": "f5e942b6-3d0b-4c07-a560-749ce1222e1a",
     "showTitle": false,
     "tableResultSettingsMap": {},
     "title": ""
    }
   },
   "outputs": [],
   "source": [
    "# Junta com as dimensões para criar a Tabela Fato\n",
    "fato = df \\\n",
    "    .join(dim_tipo, on=\"type\", how=\"left\") \\\n",
    "    .join(dim_cliente, df.nameOrig == dim_cliente.nome_cliente, \"left\") \\\n",
    "    .join(dim_dest, df.nameDest == dim_dest.nome_destinatario, \"left\") \\\n",
    "    .select(\n",
    "        monotonically_increasing_id().alias(\"transacao_id\"),\n",
    "        \"step\",\n",
    "        \"tipo_id\",\n",
    "        \"cliente_id\",\n",
    "        \"destinatario_id\",\n",
    "        \"amount\",\n",
    "        col(\"oldbalanceOrg\").alias(\"saldo_anterior\"),\n",
    "        col(\"newbalanceOrig\").alias(\"saldo_posterior\"),\n",
    "        col(\"isFraud\").alias(\"fraude\"),\n",
    "        col(\"isFlaggedFraud\").alias(\"alerta_fraude\")\n",
    "    )"
   ]
  },
  {
   "cell_type": "code",
   "execution_count": 0,
   "metadata": {
    "application/vnd.databricks.v1+cell": {
     "cellMetadata": {
      "byteLimit": 2048000,
      "rowLimit": 10000
     },
     "inputWidgets": {},
     "nuid": "dac7134e-2c7a-4cd3-9d0d-9b15eb71408f",
     "showTitle": false,
     "tableResultSettingsMap": {},
     "title": ""
    }
   },
   "outputs": [
    {
     "output_type": "stream",
     "name": "stdout",
     "output_type": "stream",
     "text": [
      "Modelo em Esquema Estrela criado e salvo!\n"
     ]
    }
   ],
   "source": [
    "# Salva as tabelas em formato Delta\n",
    "fato.write.format(\"delta\").mode(\"overwrite\").save(\"/mnt/paysim/fato_transacoes\")\n",
    "dim_tipo.write.format(\"delta\").mode(\"overwrite\").save(\"/mnt/paysim/dim_tipo\")\n",
    "dim_cliente.write.format(\"delta\").mode(\"overwrite\").save(\"/mnt/paysim/dim_cliente\")\n",
    "dim_dest.write.format(\"delta\").mode(\"overwrite\").save(\"/mnt/paysim/dim_destinatario\")\n",
    "dim_tempo.write.format(\"delta\").mode(\"overwrite\").save(\"/mnt/paysim/dim_tempo\")\n",
    "\n",
    "print(\"Modelo em Esquema Estrela criado e salvo!\")"
   ]
  },
  {
   "cell_type": "code",
   "execution_count": 0,
   "metadata": {
    "application/vnd.databricks.v1+cell": {
     "cellMetadata": {
      "byteLimit": 2048000,
      "implicitDf": true,
      "rowLimit": 10000
     },
     "inputWidgets": {},
     "nuid": "b3c399f8-d648-469e-9791-0f897ee0cca2",
     "showTitle": false,
     "tableResultSettingsMap": {},
     "title": ""
    }
   },
   "outputs": [
    {
     "output_type": "display_data",
     "data": {
      "text/html": [
       "<style scoped>\n",
       "  .table-result-container {\n",
       "    max-height: 300px;\n",
       "    overflow: auto;\n",
       "  }\n",
       "  table, th, td {\n",
       "    border: 1px solid black;\n",
       "    border-collapse: collapse;\n",
       "  }\n",
       "  th, td {\n",
       "    padding: 5px;\n",
       "  }\n",
       "  th {\n",
       "    text-align: left;\n",
       "  }\n",
       "</style><div class='table-result-container'><table class='table-result'><thead style='background-color: white'><tr></tr></thead><tbody></tbody></table></div>"
      ]
     },
     "metadata": {
      "application/vnd.databricks.v1+output": {
       "addedWidgets": {},
       "aggData": [],
       "aggError": "",
       "aggOverflow": false,
       "aggSchema": [],
       "aggSeriesLimitReached": false,
       "aggType": "",
       "arguments": {},
       "columnCustomDisplayInfos": {},
       "data": [],
       "datasetInfos": [],
       "dbfsResultPath": null,
       "isJsonSchema": true,
       "metadata": {
        "dataframeName": null
       },
       "overflow": false,
       "plotOptions": {
        "customPlotOptions": {},
        "displayType": "table",
        "pivotAggregation": null,
        "pivotColumns": null,
        "xColumns": null,
        "yColumns": null
       },
       "removedWidgets": [],
       "schema": [],
       "type": "table"
      }
     },
     "output_type": "display_data"
    }
   ],
   "source": [
    "%sql\n",
    "-- Crie catálogos se necessário\n",
    "CREATE DATABASE IF NOT EXISTS paysim;\n",
    "\n",
    "-- Registre as tabelas no metastore\n",
    "CREATE TABLE IF NOT EXISTS paysim.fato_transacoes\n",
    "USING DELTA\n",
    "LOCATION '/mnt/paysim/fato_transacoes';\n",
    "\n",
    "CREATE TABLE IF NOT EXISTS paysim.dim_tipo\n",
    "USING DELTA\n",
    "LOCATION '/mnt/paysim/dim_tipo';\n",
    "\n",
    "CREATE TABLE IF NOT EXISTS paysim.dim_cliente\n",
    "USING DELTA\n",
    "LOCATION '/mnt/paysim/dim_cliente';\n",
    "\n",
    "CREATE TABLE IF NOT EXISTS paysim.dim_destinatario\n",
    "USING DELTA\n",
    "LOCATION '/mnt/paysim/dim_destinatario';\n",
    "\n",
    "CREATE TABLE IF NOT EXISTS paysim.dim_tempo\n",
    "USING DELTA\n",
    "LOCATION '/mnt/paysim/dim_tempo';"
   ]
  },
  {
   "cell_type": "code",
   "execution_count": 0,
   "metadata": {
    "application/vnd.databricks.v1+cell": {
     "cellMetadata": {
      "byteLimit": 2048000,
      "implicitDf": true,
      "rowLimit": 10000
     },
     "inputWidgets": {},
     "nuid": "c71443ec-affc-4929-8b22-803151a3e3b9",
     "showTitle": false,
     "tableResultSettingsMap": {},
     "title": ""
    }
   },
   "outputs": [
    {
     "output_type": "display_data",
     "data": {
      "text/html": [
       "<style scoped>\n",
       "  .table-result-container {\n",
       "    max-height: 300px;\n",
       "    overflow: auto;\n",
       "  }\n",
       "  table, th, td {\n",
       "    border: 1px solid black;\n",
       "    border-collapse: collapse;\n",
       "  }\n",
       "  th, td {\n",
       "    padding: 5px;\n",
       "  }\n",
       "  th {\n",
       "    text-align: left;\n",
       "  }\n",
       "</style><div class='table-result-container'><table class='table-result'><thead style='background-color: white'><tr><th>nome_cliente</th><th>total_fraudes</th></tr></thead><tbody><tr><td>C1055929140</td><td>1</td></tr><tr><td>C1061805919</td><td>1</td></tr><tr><td>C1074619527</td><td>1</td></tr><tr><td>C1259321993</td><td>1</td></tr><tr><td>C1276671609</td><td>1</td></tr><tr><td>C1313615833</td><td>1</td></tr><tr><td>C1339851120</td><td>1</td></tr><tr><td>C1376413283</td><td>1</td></tr><tr><td>C1409640196</td><td>1</td></tr><tr><td>C1415552520</td><td>1</td></tr></tbody></table></div>"
      ]
     },
     "metadata": {
      "application/vnd.databricks.v1+output": {
       "addedWidgets": {},
       "aggData": [],
       "aggError": "",
       "aggOverflow": false,
       "aggSchema": [],
       "aggSeriesLimitReached": false,
       "aggType": "",
       "arguments": {},
       "columnCustomDisplayInfos": {},
       "data": [
        [
         "C1055929140",
         1
        ],
        [
         "C1061805919",
         1
        ],
        [
         "C1074619527",
         1
        ],
        [
         "C1259321993",
         1
        ],
        [
         "C1276671609",
         1
        ],
        [
         "C1313615833",
         1
        ],
        [
         "C1339851120",
         1
        ],
        [
         "C1376413283",
         1
        ],
        [
         "C1409640196",
         1
        ],
        [
         "C1415552520",
         1
        ]
       ],
       "datasetInfos": [],
       "dbfsResultPath": null,
       "isJsonSchema": true,
       "metadata": {
        "createTempViewForImplicitDf": true,
        "dataframeName": "_sqldf",
        "executionCount": 19
       },
       "overflow": false,
       "plotOptions": {
        "customPlotOptions": {},
        "displayType": "table",
        "pivotAggregation": null,
        "pivotColumns": null,
        "xColumns": null,
        "yColumns": null
       },
       "removedWidgets": [],
       "schema": [
        {
         "metadata": "{}",
         "name": "nome_cliente",
         "type": "\"string\""
        },
        {
         "metadata": "{}",
         "name": "total_fraudes",
         "type": "\"long\""
        }
       ],
       "type": "table"
      }
     },
     "output_type": "display_data"
    }
   ],
   "source": [
    "%sql\n",
    "SELECT\n",
    "  dc.nome_cliente,\n",
    "  COUNT(*) AS total_fraudes\n",
    "FROM paysim.fato_transacoes ft\n",
    "JOIN paysim.dim_cliente dc ON ft.cliente_id = dc.cliente_id\n",
    "WHERE ft.fraude = 1\n",
    "GROUP BY dc.nome_cliente\n",
    "ORDER BY total_fraudes DESC\n",
    "LIMIT 10;"
   ]
  },
  {
   "cell_type": "code",
   "execution_count": 0,
   "metadata": {
    "application/vnd.databricks.v1+cell": {
     "cellMetadata": {
      "byteLimit": 2048000,
      "implicitDf": true,
      "rowLimit": 10000
     },
     "inputWidgets": {},
     "nuid": "cd520766-13cb-4ed3-8569-62c3c9eb9b4b",
     "showTitle": false,
     "tableResultSettingsMap": {},
     "title": ""
    }
   },
   "outputs": [
    {
     "output_type": "display_data",
     "data": {
      "text/html": [
       "<style scoped>\n",
       "  .table-result-container {\n",
       "    max-height: 300px;\n",
       "    overflow: auto;\n",
       "  }\n",
       "  table, th, td {\n",
       "    border: 1px solid black;\n",
       "    border-collapse: collapse;\n",
       "  }\n",
       "  th, td {\n",
       "    padding: 5px;\n",
       "  }\n",
       "  th {\n",
       "    text-align: left;\n",
       "  }\n",
       "</style><div class='table-result-container'><table class='table-result'><thead style='background-color: white'><tr><th>fraude</th><th>total_transacoes</th><th>media_valor</th><th>maior_valor</th><th>menor_valor</th></tr></thead><tbody><tr><td>1</td><td>8213</td><td>1467967.299140387</td><td>1.0E7</td><td>0.0</td></tr><tr><td>0</td><td>6354407</td><td>178197.0417274021</td><td>9.244551664E7</td><td>0.01</td></tr></tbody></table></div>"
      ]
     },
     "metadata": {
      "application/vnd.databricks.v1+output": {
       "addedWidgets": {},
       "aggData": [],
       "aggError": "",
       "aggOverflow": false,
       "aggSchema": [],
       "aggSeriesLimitReached": false,
       "aggType": "",
       "arguments": {},
       "columnCustomDisplayInfos": {},
       "data": [
        [
         1,
         8213,
         1467967.299140387,
         1.0E7,
         0.0
        ],
        [
         0,
         6354407,
         178197.0417274021,
         9.244551664E7,
         0.01
        ]
       ],
       "datasetInfos": [],
       "dbfsResultPath": null,
       "isJsonSchema": true,
       "metadata": {
        "createTempViewForImplicitDf": true,
        "dataframeName": "_sqldf",
        "executionCount": 20
       },
       "overflow": false,
       "plotOptions": {
        "customPlotOptions": {},
        "displayType": "table",
        "pivotAggregation": null,
        "pivotColumns": null,
        "xColumns": null,
        "yColumns": null
       },
       "removedWidgets": [],
       "schema": [
        {
         "metadata": "{}",
         "name": "fraude",
         "type": "\"integer\""
        },
        {
         "metadata": "{}",
         "name": "total_transacoes",
         "type": "\"long\""
        },
        {
         "metadata": "{}",
         "name": "media_valor",
         "type": "\"double\""
        },
        {
         "metadata": "{}",
         "name": "maior_valor",
         "type": "\"double\""
        },
        {
         "metadata": "{}",
         "name": "menor_valor",
         "type": "\"double\""
        }
       ],
       "type": "table"
      }
     },
     "output_type": "display_data"
    }
   ],
   "source": [
    "%sql\n",
    "SELECT\n",
    "  fraude,\n",
    "  COUNT(*) AS total_transacoes,\n",
    "  AVG(amount) AS media_valor,\n",
    "  MAX(amount) AS maior_valor,\n",
    "  MIN(amount) AS menor_valor\n",
    "FROM paysim.fato_transacoes\n",
    "GROUP BY fraude;"
   ]
  },
  {
   "cell_type": "code",
   "execution_count": 0,
   "metadata": {
    "application/vnd.databricks.v1+cell": {
     "cellMetadata": {
      "byteLimit": 2048000,
      "implicitDf": true,
      "rowLimit": 10000
     },
     "inputWidgets": {},
     "nuid": "a2c8323e-ece0-4580-ab64-578c49e149d6",
     "showTitle": false,
     "tableResultSettingsMap": {},
     "title": ""
    }
   },
   "outputs": [
    {
     "output_type": "display_data",
     "data": {
      "text/html": [
       "<style scoped>\n",
       "  .table-result-container {\n",
       "    max-height: 300px;\n",
       "    overflow: auto;\n",
       "  }\n",
       "  table, th, td {\n",
       "    border: 1px solid black;\n",
       "    border-collapse: collapse;\n",
       "  }\n",
       "  th, td {\n",
       "    padding: 5px;\n",
       "  }\n",
       "  th {\n",
       "    text-align: left;\n",
       "  }\n",
       "</style><div class='table-result-container'><table class='table-result'><thead style='background-color: white'><tr><th>step</th><th>total_fraudes</th></tr></thead><tbody><tr><td>1</td><td>16</td></tr><tr><td>2</td><td>8</td></tr><tr><td>3</td><td>4</td></tr><tr><td>4</td><td>10</td></tr><tr><td>5</td><td>6</td></tr><tr><td>6</td><td>22</td></tr><tr><td>7</td><td>12</td></tr><tr><td>8</td><td>12</td></tr><tr><td>9</td><td>19</td></tr><tr><td>10</td><td>11</td></tr><tr><td>11</td><td>7</td></tr><tr><td>12</td><td>14</td></tr><tr><td>13</td><td>14</td></tr><tr><td>14</td><td>12</td></tr><tr><td>15</td><td>20</td></tr><tr><td>16</td><td>10</td></tr><tr><td>17</td><td>7</td></tr><tr><td>18</td><td>16</td></tr><tr><td>19</td><td>11</td></tr><tr><td>20</td><td>4</td></tr><tr><td>21</td><td>5</td></tr><tr><td>22</td><td>23</td></tr><tr><td>23</td><td>2</td></tr><tr><td>24</td><td>6</td></tr><tr><td>25</td><td>18</td></tr><tr><td>26</td><td>12</td></tr><tr><td>27</td><td>8</td></tr><tr><td>28</td><td>4</td></tr><tr><td>29</td><td>4</td></tr><tr><td>30</td><td>8</td></tr><tr><td>31</td><td>12</td></tr><tr><td>32</td><td>12</td></tr><tr><td>33</td><td>12</td></tr><tr><td>34</td><td>22</td></tr><tr><td>35</td><td>15</td></tr><tr><td>36</td><td>19</td></tr><tr><td>37</td><td>13</td></tr><tr><td>38</td><td>16</td></tr><tr><td>39</td><td>12</td></tr><tr><td>40</td><td>14</td></tr><tr><td>41</td><td>12</td></tr><tr><td>42</td><td>14</td></tr><tr><td>43</td><td>13</td></tr><tr><td>44</td><td>8</td></tr><tr><td>45</td><td>16</td></tr><tr><td>46</td><td>14</td></tr><tr><td>47</td><td>21</td></tr><tr><td>48</td><td>10</td></tr><tr><td>49</td><td>4</td></tr><tr><td>50</td><td>6</td></tr><tr><td>51</td><td>14</td></tr><tr><td>52</td><td>8</td></tr><tr><td>53</td><td>10</td></tr><tr><td>54</td><td>4</td></tr><tr><td>55</td><td>12</td></tr><tr><td>56</td><td>18</td></tr><tr><td>57</td><td>6</td></tr><tr><td>58</td><td>20</td></tr><tr><td>59</td><td>20</td></tr><tr><td>60</td><td>12</td></tr><tr><td>61</td><td>14</td></tr><tr><td>62</td><td>8</td></tr><tr><td>63</td><td>8</td></tr><tr><td>64</td><td>18</td></tr><tr><td>65</td><td>20</td></tr><tr><td>66</td><td>24</td></tr><tr><td>67</td><td>6</td></tr><tr><td>68</td><td>18</td></tr><tr><td>69</td><td>20</td></tr><tr><td>70</td><td>6</td></tr><tr><td>71</td><td>20</td></tr><tr><td>72</td><td>14</td></tr><tr><td>73</td><td>8</td></tr><tr><td>74</td><td>22</td></tr><tr><td>75</td><td>8</td></tr><tr><td>76</td><td>4</td></tr><tr><td>77</td><td>10</td></tr><tr><td>78</td><td>10</td></tr><tr><td>79</td><td>10</td></tr><tr><td>80</td><td>10</td></tr><tr><td>81</td><td>10</td></tr><tr><td>82</td><td>10</td></tr><tr><td>83</td><td>12</td></tr><tr><td>84</td><td>16</td></tr><tr><td>85</td><td>14</td></tr><tr><td>86</td><td>18</td></tr><tr><td>87</td><td>6</td></tr><tr><td>88</td><td>8</td></tr><tr><td>89</td><td>6</td></tr><tr><td>90</td><td>16</td></tr><tr><td>91</td><td>8</td></tr><tr><td>92</td><td>10</td></tr><tr><td>93</td><td>16</td></tr><tr><td>94</td><td>12</td></tr><tr><td>95</td><td>14</td></tr><tr><td>96</td><td>4</td></tr><tr><td>97</td><td>10</td></tr><tr><td>98</td><td>14</td></tr><tr><td>99</td><td>8</td></tr><tr><td>100</td><td>6</td></tr><tr><td>101</td><td>12</td></tr><tr><td>102</td><td>12</td></tr><tr><td>103</td><td>8</td></tr><tr><td>104</td><td>14</td></tr><tr><td>105</td><td>18</td></tr><tr><td>106</td><td>18</td></tr><tr><td>107</td><td>10</td></tr><tr><td>108</td><td>8</td></tr><tr><td>109</td><td>12</td></tr><tr><td>110</td><td>10</td></tr><tr><td>111</td><td>10</td></tr><tr><td>112</td><td>2</td></tr><tr><td>113</td><td>6</td></tr><tr><td>114</td><td>4</td></tr><tr><td>115</td><td>10</td></tr><tr><td>116</td><td>14</td></tr><tr><td>117</td><td>12</td></tr><tr><td>118</td><td>12</td></tr><tr><td>119</td><td>10</td></tr><tr><td>120</td><td>12</td></tr><tr><td>121</td><td>14</td></tr><tr><td>122</td><td>14</td></tr><tr><td>123</td><td>6</td></tr><tr><td>124</td><td>4</td></tr><tr><td>125</td><td>10</td></tr><tr><td>126</td><td>6</td></tr><tr><td>127</td><td>14</td></tr><tr><td>128</td><td>8</td></tr><tr><td>129</td><td>6</td></tr><tr><td>130</td><td>6</td></tr><tr><td>131</td><td>16</td></tr><tr><td>132</td><td>10</td></tr><tr><td>133</td><td>10</td></tr><tr><td>134</td><td>10</td></tr><tr><td>135</td><td>8</td></tr><tr><td>136</td><td>10</td></tr><tr><td>137</td><td>12</td></tr><tr><td>138</td><td>4</td></tr><tr><td>139</td><td>4</td></tr><tr><td>140</td><td>14</td></tr><tr><td>141</td><td>8</td></tr><tr><td>142</td><td>8</td></tr><tr><td>143</td><td>16</td></tr><tr><td>144</td><td>10</td></tr><tr><td>145</td><td>14</td></tr><tr><td>146</td><td>10</td></tr><tr><td>147</td><td>6</td></tr><tr><td>148</td><td>12</td></tr><tr><td>149</td><td>22</td></tr><tr><td>150</td><td>14</td></tr><tr><td>151</td><td>18</td></tr><tr><td>152</td><td>6</td></tr><tr><td>153</td><td>10</td></tr><tr><td>154</td><td>10</td></tr><tr><td>155</td><td>8</td></tr><tr><td>156</td><td>18</td></tr><tr><td>157</td><td>16</td></tr><tr><td>158</td><td>8</td></tr><tr><td>159</td><td>10</td></tr><tr><td>160</td><td>26</td></tr><tr><td>161</td><td>14</td></tr><tr><td>162</td><td>10</td></tr><tr><td>163</td><td>8</td></tr><tr><td>164</td><td>14</td></tr><tr><td>165</td><td>4</td></tr><tr><td>166</td><td>6</td></tr><tr><td>167</td><td>6</td></tr><tr><td>168</td><td>2</td></tr><tr><td>169</td><td>10</td></tr><tr><td>170</td><td>16</td></tr><tr><td>171</td><td>14</td></tr><tr><td>172</td><td>10</td></tr><tr><td>173</td><td>14</td></tr><tr><td>174</td><td>10</td></tr><tr><td>175</td><td>8</td></tr><tr><td>176</td><td>10</td></tr><tr><td>177</td><td>18</td></tr><tr><td>178</td><td>14</td></tr><tr><td>179</td><td>8</td></tr><tr><td>180</td><td>10</td></tr><tr><td>181</td><td>11</td></tr><tr><td>182</td><td>8</td></tr><tr><td>183</td><td>16</td></tr><tr><td>184</td><td>8</td></tr><tr><td>185</td><td>16</td></tr><tr><td>186</td><td>17</td></tr><tr><td>187</td><td>10</td></tr><tr><td>188</td><td>10</td></tr><tr><td>189</td><td>10</td></tr><tr><td>190</td><td>8</td></tr><tr><td>191</td><td>12</td></tr><tr><td>192</td><td>10</td></tr><tr><td>193</td><td>8</td></tr><tr><td>194</td><td>12</td></tr><tr><td>195</td><td>10</td></tr><tr><td>196</td><td>8</td></tr><tr><td>197</td><td>4</td></tr><tr><td>198</td><td>12</td></tr><tr><td>199</td><td>10</td></tr><tr><td>200</td><td>8</td></tr><tr><td>201</td><td>8</td></tr><tr><td>202</td><td>2</td></tr><tr><td>203</td><td>8</td></tr><tr><td>204</td><td>6</td></tr><tr><td>205</td><td>16</td></tr><tr><td>206</td><td>12</td></tr><tr><td>207</td><td>6</td></tr><tr><td>208</td><td>21</td></tr><tr><td>209</td><td>6</td></tr><tr><td>210</td><td>8</td></tr><tr><td>211</td><td>14</td></tr><tr><td>212</td><td>40</td></tr><tr><td>213</td><td>8</td></tr><tr><td>214</td><td>12</td></tr><tr><td>215</td><td>10</td></tr><tr><td>216</td><td>6</td></tr><tr><td>217</td><td>16</td></tr><tr><td>218</td><td>12</td></tr><tr><td>219</td><td>10</td></tr><tr><td>220</td><td>6</td></tr><tr><td>221</td><td>10</td></tr><tr><td>222</td><td>8</td></tr><tr><td>223</td><td>8</td></tr><tr><td>224</td><td>10</td></tr><tr><td>225</td><td>12</td></tr><tr><td>226</td><td>12</td></tr><tr><td>227</td><td>14</td></tr><tr><td>228</td><td>16</td></tr><tr><td>229</td><td>8</td></tr><tr><td>230</td><td>17</td></tr><tr><td>231</td><td>17</td></tr><tr><td>232</td><td>10</td></tr><tr><td>233</td><td>12</td></tr><tr><td>234</td><td>14</td></tr><tr><td>235</td><td>10</td></tr><tr><td>236</td><td>10</td></tr><tr><td>237</td><td>12</td></tr><tr><td>238</td><td>14</td></tr><tr><td>239</td><td>10</td></tr><tr><td>240</td><td>14</td></tr><tr><td>241</td><td>18</td></tr><tr><td>242</td><td>8</td></tr><tr><td>243</td><td>8</td></tr><tr><td>244</td><td>12</td></tr><tr><td>245</td><td>4</td></tr><tr><td>246</td><td>4</td></tr><tr><td>247</td><td>8</td></tr><tr><td>248</td><td>10</td></tr><tr><td>249</td><td>28</td></tr><tr><td>250</td><td>22</td></tr><tr><td>251</td><td>10</td></tr><tr><td>252</td><td>2</td></tr><tr><td>253</td><td>10</td></tr><tr><td>254</td><td>10</td></tr><tr><td>255</td><td>8</td></tr><tr><td>256</td><td>8</td></tr><tr><td>257</td><td>6</td></tr><tr><td>258</td><td>8</td></tr><tr><td>259</td><td>10</td></tr><tr><td>260</td><td>12</td></tr><tr><td>261</td><td>20</td></tr><tr><td>262</td><td>22</td></tr><tr><td>263</td><td>6</td></tr><tr><td>264</td><td>8</td></tr><tr><td>265</td><td>12</td></tr><tr><td>266</td><td>10</td></tr><tr><td>267</td><td>8</td></tr><tr><td>268</td><td>6</td></tr><tr><td>269</td><td>14</td></tr><tr><td>270</td><td>16</td></tr><tr><td>271</td><td>12</td></tr><tr><td>272</td><td>12</td></tr><tr><td>273</td><td>20</td></tr><tr><td>274</td><td>20</td></tr><tr><td>275</td><td>10</td></tr><tr><td>276</td><td>10</td></tr><tr><td>277</td><td>14</td></tr><tr><td>278</td><td>4</td></tr><tr><td>279</td><td>22</td></tr><tr><td>280</td><td>4</td></tr><tr><td>281</td><td>18</td></tr><tr><td>282</td><td>18</td></tr><tr><td>283</td><td>8</td></tr><tr><td>284</td><td>16</td></tr><tr><td>285</td><td>16</td></tr><tr><td>286</td><td>8</td></tr><tr><td>287</td><td>10</td></tr><tr><td>288</td><td>10</td></tr><tr><td>289</td><td>12</td></tr><tr><td>290</td><td>8</td></tr><tr><td>291</td><td>10</td></tr><tr><td>292</td><td>8</td></tr><tr><td>293</td><td>4</td></tr><tr><td>294</td><td>18</td></tr><tr><td>295</td><td>10</td></tr><tr><td>296</td><td>22</td></tr><tr><td>297</td><td>8</td></tr><tr><td>298</td><td>4</td></tr><tr><td>299</td><td>10</td></tr><tr><td>300</td><td>8</td></tr><tr><td>301</td><td>4</td></tr><tr><td>302</td><td>8</td></tr><tr><td>303</td><td>14</td></tr><tr><td>304</td><td>2</td></tr><tr><td>305</td><td>14</td></tr><tr><td>306</td><td>12</td></tr><tr><td>307</td><td>16</td></tr><tr><td>308</td><td>6</td></tr><tr><td>309</td><td>8</td></tr><tr><td>310</td><td>10</td></tr><tr><td>311</td><td>16</td></tr><tr><td>312</td><td>10</td></tr><tr><td>313</td><td>10</td></tr><tr><td>314</td><td>6</td></tr><tr><td>315</td><td>12</td></tr><tr><td>316</td><td>12</td></tr><tr><td>317</td><td>20</td></tr><tr><td>318</td><td>6</td></tr><tr><td>319</td><td>8</td></tr><tr><td>320</td><td>14</td></tr><tr><td>321</td><td>8</td></tr><tr><td>322</td><td>16</td></tr><tr><td>323</td><td>10</td></tr><tr><td>324</td><td>10</td></tr><tr><td>325</td><td>10</td></tr><tr><td>326</td><td>14</td></tr><tr><td>327</td><td>10</td></tr><tr><td>328</td><td>18</td></tr><tr><td>329</td><td>6</td></tr><tr><td>330</td><td>10</td></tr><tr><td>331</td><td>6</td></tr><tr><td>332</td><td>6</td></tr><tr><td>333</td><td>8</td></tr><tr><td>334</td><td>4</td></tr><tr><td>335</td><td>4</td></tr><tr><td>336</td><td>18</td></tr><tr><td>337</td><td>10</td></tr><tr><td>338</td><td>4</td></tr><tr><td>339</td><td>10</td></tr><tr><td>340</td><td>10</td></tr><tr><td>341</td><td>10</td></tr><tr><td>342</td><td>14</td></tr><tr><td>343</td><td>12</td></tr><tr><td>344</td><td>6</td></tr><tr><td>345</td><td>12</td></tr><tr><td>346</td><td>6</td></tr><tr><td>347</td><td>0</td></tr><tr><td>348</td><td>8</td></tr><tr><td>349</td><td>18</td></tr><tr><td>350</td><td>14</td></tr><tr><td>351</td><td>18</td></tr><tr><td>352</td><td>16</td></tr><tr><td>353</td><td>8</td></tr><tr><td>354</td><td>12</td></tr><tr><td>355</td><td>8</td></tr><tr><td>356</td><td>6</td></tr><tr><td>357</td><td>18</td></tr><tr><td>358</td><td>10</td></tr><tr><td>359</td><td>12</td></tr><tr><td>360</td><td>8</td></tr><tr><td>361</td><td>14</td></tr><tr><td>362</td><td>20</td></tr><tr><td>363</td><td>14</td></tr><tr><td>364</td><td>6</td></tr><tr><td>365</td><td>14</td></tr><tr><td>366</td><td>10</td></tr><tr><td>367</td><td>14</td></tr><tr><td>368</td><td>6</td></tr><tr><td>369</td><td>6</td></tr><tr><td>370</td><td>18</td></tr><tr><td>371</td><td>6</td></tr><tr><td>372</td><td>8</td></tr><tr><td>373</td><td>12</td></tr><tr><td>374</td><td>14</td></tr><tr><td>375</td><td>10</td></tr><tr><td>376</td><td>4</td></tr><tr><td>377</td><td>10</td></tr><tr><td>378</td><td>4</td></tr><tr><td>379</td><td>16</td></tr><tr><td>380</td><td>14</td></tr><tr><td>381</td><td>4</td></tr><tr><td>382</td><td>8</td></tr><tr><td>383</td><td>14</td></tr><tr><td>384</td><td>6</td></tr><tr><td>385</td><td>8</td></tr><tr><td>386</td><td>16</td></tr><tr><td>387</td><td>28</td></tr><tr><td>388</td><td>18</td></tr><tr><td>389</td><td>10</td></tr><tr><td>390</td><td>12</td></tr><tr><td>391</td><td>12</td></tr><tr><td>392</td><td>10</td></tr><tr><td>393</td><td>4</td></tr><tr><td>394</td><td>10</td></tr><tr><td>395</td><td>8</td></tr><tr><td>396</td><td>8</td></tr><tr><td>397</td><td>10</td></tr><tr><td>398</td><td>26</td></tr><tr><td>399</td><td>12</td></tr><tr><td>400</td><td>16</td></tr><tr><td>401</td><td>16</td></tr><tr><td>402</td><td>12</td></tr><tr><td>403</td><td>16</td></tr><tr><td>404</td><td>18</td></tr><tr><td>405</td><td>10</td></tr><tr><td>406</td><td>24</td></tr><tr><td>407</td><td>6</td></tr><tr><td>408</td><td>10</td></tr><tr><td>409</td><td>20</td></tr><tr><td>410</td><td>20</td></tr><tr><td>411</td><td>16</td></tr><tr><td>412</td><td>8</td></tr><tr><td>413</td><td>14</td></tr><tr><td>414</td><td>16</td></tr><tr><td>415</td><td>16</td></tr><tr><td>416</td><td>8</td></tr><tr><td>417</td><td>6</td></tr><tr><td>418</td><td>6</td></tr><tr><td>419</td><td>10</td></tr><tr><td>420</td><td>12</td></tr><tr><td>421</td><td>14</td></tr><tr><td>422</td><td>10</td></tr><tr><td>423</td><td>6</td></tr><tr><td>424</td><td>14</td></tr><tr><td>425</td><td>28</td></tr><tr><td>426</td><td>2</td></tr><tr><td>427</td><td>14</td></tr><tr><td>428</td><td>6</td></tr><tr><td>429</td><td>4</td></tr><tr><td>430</td><td>8</td></tr><tr><td>431</td><td>6</td></tr><tr><td>432</td><td>4</td></tr><tr><td>433</td><td>6</td></tr><tr><td>434</td><td>8</td></tr><tr><td>435</td><td>4</td></tr><tr><td>436</td><td>16</td></tr><tr><td>437</td><td>16</td></tr><tr><td>438</td><td>12</td></tr><tr><td>439</td><td>12</td></tr><tr><td>440</td><td>18</td></tr><tr><td>441</td><td>10</td></tr><tr><td>442</td><td>12</td></tr><tr><td>443</td><td>10</td></tr><tr><td>444</td><td>20</td></tr><tr><td>445</td><td>6</td></tr><tr><td>446</td><td>12</td></tr><tr><td>447</td><td>10</td></tr><tr><td>448</td><td>6</td></tr><tr><td>449</td><td>6</td></tr><tr><td>450</td><td>16</td></tr><tr><td>451</td><td>4</td></tr><tr><td>452</td><td>10</td></tr><tr><td>453</td><td>8</td></tr><tr><td>454</td><td>6</td></tr><tr><td>455</td><td>10</td></tr><tr><td>456</td><td>18</td></tr><tr><td>457</td><td>10</td></tr><tr><td>458</td><td>6</td></tr><tr><td>459</td><td>8</td></tr><tr><td>460</td><td>16</td></tr><tr><td>461</td><td>16</td></tr><tr><td>462</td><td>16</td></tr><tr><td>463</td><td>10</td></tr><tr><td>464</td><td>16</td></tr><tr><td>465</td><td>12</td></tr><tr><td>466</td><td>6</td></tr><tr><td>467</td><td>12</td></tr><tr><td>468</td><td>12</td></tr><tr><td>469</td><td>8</td></tr><tr><td>470</td><td>12</td></tr><tr><td>471</td><td>2</td></tr><tr><td>472</td><td>8</td></tr><tr><td>473</td><td>10</td></tr><tr><td>474</td><td>8</td></tr><tr><td>475</td><td>14</td></tr><tr><td>476</td><td>8</td></tr><tr><td>477</td><td>10</td></tr><tr><td>478</td><td>6</td></tr><tr><td>479</td><td>4</td></tr><tr><td>480</td><td>6</td></tr><tr><td>481</td><td>14</td></tr><tr><td>482</td><td>16</td></tr><tr><td>483</td><td>8</td></tr><tr><td>484</td><td>6</td></tr><tr><td>485</td><td>12</td></tr><tr><td>486</td><td>8</td></tr><tr><td>487</td><td>14</td></tr><tr><td>488</td><td>8</td></tr><tr><td>489</td><td>14</td></tr><tr><td>490</td><td>10</td></tr><tr><td>491</td><td>12</td></tr><tr><td>492</td><td>6</td></tr><tr><td>493</td><td>8</td></tr><tr><td>494</td><td>8</td></tr><tr><td>495</td><td>16</td></tr><tr><td>496</td><td>6</td></tr><tr><td>497</td><td>20</td></tr><tr><td>498</td><td>12</td></tr><tr><td>499</td><td>10</td></tr><tr><td>500</td><td>4</td></tr><tr><td>501</td><td>28</td></tr><tr><td>502</td><td>12</td></tr><tr><td>503</td><td>10</td></tr><tr><td>504</td><td>10</td></tr><tr><td>505</td><td>8</td></tr><tr><td>506</td><td>8</td></tr><tr><td>507</td><td>14</td></tr><tr><td>508</td><td>6</td></tr><tr><td>509</td><td>14</td></tr><tr><td>510</td><td>10</td></tr><tr><td>511</td><td>6</td></tr><tr><td>512</td><td>12</td></tr><tr><td>513</td><td>10</td></tr><tr><td>514</td><td>14</td></tr><tr><td>515</td><td>6</td></tr><tr><td>516</td><td>14</td></tr><tr><td>517</td><td>6</td></tr><tr><td>518</td><td>8</td></tr><tr><td>519</td><td>12</td></tr><tr><td>520</td><td>12</td></tr><tr><td>521</td><td>14</td></tr><tr><td>522</td><td>14</td></tr><tr><td>523</td><td>30</td></tr><tr><td>524</td><td>4</td></tr><tr><td>525</td><td>2</td></tr><tr><td>526</td><td>12</td></tr><tr><td>527</td><td>6</td></tr><tr><td>528</td><td>14</td></tr><tr><td>529</td><td>6</td></tr><tr><td>530</td><td>8</td></tr><tr><td>531</td><td>14</td></tr><tr><td>532</td><td>6</td></tr><tr><td>533</td><td>12</td></tr><tr><td>534</td><td>12</td></tr><tr><td>535</td><td>6</td></tr><tr><td>536</td><td>12</td></tr><tr><td>537</td><td>18</td></tr><tr><td>538</td><td>10</td></tr><tr><td>539</td><td>4</td></tr><tr><td>540</td><td>6</td></tr><tr><td>541</td><td>12</td></tr><tr><td>542</td><td>10</td></tr><tr><td>543</td><td>6</td></tr><tr><td>544</td><td>6</td></tr><tr><td>545</td><td>0</td></tr><tr><td>546</td><td>10</td></tr><tr><td>547</td><td>8</td></tr><tr><td>548</td><td>2</td></tr><tr><td>549</td><td>12</td></tr><tr><td>550</td><td>8</td></tr><tr><td>551</td><td>18</td></tr><tr><td>552</td><td>10</td></tr><tr><td>553</td><td>8</td></tr><tr><td>554</td><td>18</td></tr><tr><td>555</td><td>6</td></tr><tr><td>556</td><td>6</td></tr><tr><td>557</td><td>20</td></tr><tr><td>558</td><td>14</td></tr><tr><td>559</td><td>10</td></tr><tr><td>560</td><td>10</td></tr><tr><td>561</td><td>16</td></tr><tr><td>562</td><td>10</td></tr><tr><td>563</td><td>18</td></tr><tr><td>564</td><td>16</td></tr><tr><td>565</td><td>12</td></tr><tr><td>566</td><td>6</td></tr><tr><td>567</td><td>10</td></tr><tr><td>568</td><td>14</td></tr><tr><td>569</td><td>14</td></tr><tr><td>570</td><td>10</td></tr><tr><td>571</td><td>10</td></tr><tr><td>572</td><td>18</td></tr><tr><td>573</td><td>8</td></tr><tr><td>574</td><td>4</td></tr><tr><td>575</td><td>8</td></tr><tr><td>576</td><td>14</td></tr><tr><td>577</td><td>12</td></tr><tr><td>578</td><td>20</td></tr><tr><td>579</td><td>12</td></tr><tr><td>580</td><td>10</td></tr><tr><td>581</td><td>10</td></tr><tr><td>582</td><td>16</td></tr><tr><td>583</td><td>16</td></tr><tr><td>584</td><td>8</td></tr><tr><td>585</td><td>6</td></tr><tr><td>586</td><td>12</td></tr><tr><td>587</td><td>6</td></tr><tr><td>588</td><td>12</td></tr><tr><td>589</td><td>2</td></tr><tr><td>590</td><td>8</td></tr><tr><td>591</td><td>12</td></tr><tr><td>592</td><td>10</td></tr><tr><td>593</td><td>4</td></tr><tr><td>594</td><td>10</td></tr><tr><td>595</td><td>12</td></tr><tr><td>596</td><td>8</td></tr><tr><td>597</td><td>6</td></tr><tr><td>598</td><td>4</td></tr><tr><td>599</td><td>6</td></tr><tr><td>600</td><td>18</td></tr><tr><td>601</td><td>10</td></tr><tr><td>602</td><td>8</td></tr><tr><td>603</td><td>12</td></tr><tr><td>604</td><td>8</td></tr><tr><td>605</td><td>16</td></tr><tr><td>606</td><td>14</td></tr><tr><td>607</td><td>8</td></tr><tr><td>608</td><td>16</td></tr><tr><td>609</td><td>8</td></tr><tr><td>610</td><td>12</td></tr><tr><td>611</td><td>14</td></tr><tr><td>612</td><td>12</td></tr><tr><td>613</td><td>20</td></tr><tr><td>614</td><td>16</td></tr><tr><td>615</td><td>8</td></tr><tr><td>616</td><td>6</td></tr><tr><td>617</td><td>16</td></tr><tr><td>618</td><td>8</td></tr><tr><td>619</td><td>14</td></tr><tr><td>620</td><td>8</td></tr><tr><td>621</td><td>18</td></tr><tr><td>622</td><td>4</td></tr><tr><td>623</td><td>6</td></tr><tr><td>624</td><td>10</td></tr><tr><td>625</td><td>24</td></tr><tr><td>626</td><td>6</td></tr><tr><td>627</td><td>4</td></tr><tr><td>628</td><td>6</td></tr><tr><td>629</td><td>20</td></tr><tr><td>630</td><td>4</td></tr><tr><td>631</td><td>12</td></tr><tr><td>632</td><td>8</td></tr><tr><td>633</td><td>8</td></tr><tr><td>634</td><td>10</td></tr><tr><td>635</td><td>16</td></tr><tr><td>636</td><td>12</td></tr><tr><td>637</td><td>12</td></tr><tr><td>638</td><td>14</td></tr><tr><td>639</td><td>14</td></tr><tr><td>640</td><td>14</td></tr><tr><td>641</td><td>10</td></tr><tr><td>642</td><td>8</td></tr><tr><td>643</td><td>14</td></tr><tr><td>644</td><td>10</td></tr><tr><td>645</td><td>10</td></tr><tr><td>646</td><td>20</td></tr><tr><td>647</td><td>10</td></tr><tr><td>648</td><td>14</td></tr><tr><td>649</td><td>10</td></tr><tr><td>650</td><td>16</td></tr><tr><td>651</td><td>10</td></tr><tr><td>652</td><td>14</td></tr><tr><td>653</td><td>8</td></tr><tr><td>654</td><td>8</td></tr><tr><td>655</td><td>4</td></tr><tr><td>656</td><td>16</td></tr><tr><td>657</td><td>10</td></tr><tr><td>658</td><td>14</td></tr><tr><td>659</td><td>10</td></tr><tr><td>660</td><td>12</td></tr><tr><td>661</td><td>8</td></tr><tr><td>662</td><td>2</td></tr><tr><td>663</td><td>10</td></tr><tr><td>664</td><td>20</td></tr><tr><td>665</td><td>10</td></tr><tr><td>666</td><td>6</td></tr><tr><td>667</td><td>6</td></tr><tr><td>668</td><td>8</td></tr><tr><td>669</td><td>8</td></tr><tr><td>670</td><td>12</td></tr><tr><td>671</td><td>18</td></tr><tr><td>672</td><td>8</td></tr><tr><td>673</td><td>12</td></tr><tr><td>674</td><td>14</td></tr><tr><td>675</td><td>10</td></tr><tr><td>676</td><td>8</td></tr><tr><td>677</td><td>8</td></tr><tr><td>678</td><td>6</td></tr><tr><td>679</td><td>6</td></tr><tr><td>680</td><td>22</td></tr><tr><td>681</td><td>4</td></tr><tr><td>682</td><td>6</td></tr><tr><td>683</td><td>8</td></tr><tr><td>684</td><td>8</td></tr><tr><td>685</td><td>14</td></tr><tr><td>686</td><td>16</td></tr><tr><td>687</td><td>8</td></tr><tr><td>688</td><td>8</td></tr><tr><td>689</td><td>14</td></tr><tr><td>690</td><td>12</td></tr><tr><td>691</td><td>12</td></tr><tr><td>692</td><td>20</td></tr><tr><td>693</td><td>4</td></tr><tr><td>694</td><td>24</td></tr><tr><td>695</td><td>10</td></tr><tr><td>696</td><td>6</td></tr><tr><td>697</td><td>12</td></tr><tr><td>698</td><td>16</td></tr><tr><td>699</td><td>16</td></tr><tr><td>700</td><td>6</td></tr><tr><td>701</td><td>18</td></tr><tr><td>702</td><td>14</td></tr><tr><td>703</td><td>8</td></tr><tr><td>704</td><td>16</td></tr><tr><td>705</td><td>10</td></tr><tr><td>706</td><td>4</td></tr><tr><td>707</td><td>10</td></tr><tr><td>708</td><td>4</td></tr><tr><td>709</td><td>8</td></tr><tr><td>710</td><td>14</td></tr><tr><td>711</td><td>8</td></tr><tr><td>712</td><td>12</td></tr><tr><td>713</td><td>8</td></tr><tr><td>714</td><td>14</td></tr><tr><td>715</td><td>10</td></tr><tr><td>716</td><td>8</td></tr><tr><td>717</td><td>12</td></tr><tr><td>718</td><td>16</td></tr><tr><td>719</td><td>14</td></tr><tr><td>720</td><td>10</td></tr><tr><td>721</td><td>4</td></tr><tr><td>722</td><td>10</td></tr><tr><td>723</td><td>14</td></tr><tr><td>724</td><td>14</td></tr><tr><td>725</td><td>4</td></tr><tr><td>726</td><td>22</td></tr><tr><td>727</td><td>12</td></tr><tr><td>728</td><td>10</td></tr><tr><td>729</td><td>4</td></tr><tr><td>730</td><td>28</td></tr><tr><td>731</td><td>16</td></tr><tr><td>732</td><td>10</td></tr><tr><td>733</td><td>10</td></tr><tr><td>734</td><td>8</td></tr><tr><td>735</td><td>12</td></tr><tr><td>736</td><td>14</td></tr><tr><td>737</td><td>10</td></tr><tr><td>738</td><td>10</td></tr><tr><td>739</td><td>10</td></tr><tr><td>740</td><td>6</td></tr><tr><td>741</td><td>22</td></tr><tr><td>742</td><td>14</td></tr><tr><td>743</td><td>8</td></tr></tbody></table></div>"
      ]
     },
     "metadata": {
      "application/vnd.databricks.v1+output": {
       "addedWidgets": {},
       "aggData": [],
       "aggError": "",
       "aggOverflow": false,
       "aggSchema": [],
       "aggSeriesLimitReached": false,
       "aggType": "",
       "arguments": {},
       "columnCustomDisplayInfos": {},
       "data": [
        [
         1,
         16
        ],
        [
         2,
         8
        ],
        [
         3,
         4
        ],
        [
         4,
         10
        ],
        [
         5,
         6
        ],
        [
         6,
         22
        ],
        [
         7,
         12
        ],
        [
         8,
         12
        ],
        [
         9,
         19
        ],
        [
         10,
         11
        ],
        [
         11,
         7
        ],
        [
         12,
         14
        ],
        [
         13,
         14
        ],
        [
         14,
         12
        ],
        [
         15,
         20
        ],
        [
         16,
         10
        ],
        [
         17,
         7
        ],
        [
         18,
         16
        ],
        [
         19,
         11
        ],
        [
         20,
         4
        ],
        [
         21,
         5
        ],
        [
         22,
         23
        ],
        [
         23,
         2
        ],
        [
         24,
         6
        ],
        [
         25,
         18
        ],
        [
         26,
         12
        ],
        [
         27,
         8
        ],
        [
         28,
         4
        ],
        [
         29,
         4
        ],
        [
         30,
         8
        ],
        [
         31,
         12
        ],
        [
         32,
         12
        ],
        [
         33,
         12
        ],
        [
         34,
         22
        ],
        [
         35,
         15
        ],
        [
         36,
         19
        ],
        [
         37,
         13
        ],
        [
         38,
         16
        ],
        [
         39,
         12
        ],
        [
         40,
         14
        ],
        [
         41,
         12
        ],
        [
         42,
         14
        ],
        [
         43,
         13
        ],
        [
         44,
         8
        ],
        [
         45,
         16
        ],
        [
         46,
         14
        ],
        [
         47,
         21
        ],
        [
         48,
         10
        ],
        [
         49,
         4
        ],
        [
         50,
         6
        ],
        [
         51,
         14
        ],
        [
         52,
         8
        ],
        [
         53,
         10
        ],
        [
         54,
         4
        ],
        [
         55,
         12
        ],
        [
         56,
         18
        ],
        [
         57,
         6
        ],
        [
         58,
         20
        ],
        [
         59,
         20
        ],
        [
         60,
         12
        ],
        [
         61,
         14
        ],
        [
         62,
         8
        ],
        [
         63,
         8
        ],
        [
         64,
         18
        ],
        [
         65,
         20
        ],
        [
         66,
         24
        ],
        [
         67,
         6
        ],
        [
         68,
         18
        ],
        [
         69,
         20
        ],
        [
         70,
         6
        ],
        [
         71,
         20
        ],
        [
         72,
         14
        ],
        [
         73,
         8
        ],
        [
         74,
         22
        ],
        [
         75,
         8
        ],
        [
         76,
         4
        ],
        [
         77,
         10
        ],
        [
         78,
         10
        ],
        [
         79,
         10
        ],
        [
         80,
         10
        ],
        [
         81,
         10
        ],
        [
         82,
         10
        ],
        [
         83,
         12
        ],
        [
         84,
         16
        ],
        [
         85,
         14
        ],
        [
         86,
         18
        ],
        [
         87,
         6
        ],
        [
         88,
         8
        ],
        [
         89,
         6
        ],
        [
         90,
         16
        ],
        [
         91,
         8
        ],
        [
         92,
         10
        ],
        [
         93,
         16
        ],
        [
         94,
         12
        ],
        [
         95,
         14
        ],
        [
         96,
         4
        ],
        [
         97,
         10
        ],
        [
         98,
         14
        ],
        [
         99,
         8
        ],
        [
         100,
         6
        ],
        [
         101,
         12
        ],
        [
         102,
         12
        ],
        [
         103,
         8
        ],
        [
         104,
         14
        ],
        [
         105,
         18
        ],
        [
         106,
         18
        ],
        [
         107,
         10
        ],
        [
         108,
         8
        ],
        [
         109,
         12
        ],
        [
         110,
         10
        ],
        [
         111,
         10
        ],
        [
         112,
         2
        ],
        [
         113,
         6
        ],
        [
         114,
         4
        ],
        [
         115,
         10
        ],
        [
         116,
         14
        ],
        [
         117,
         12
        ],
        [
         118,
         12
        ],
        [
         119,
         10
        ],
        [
         120,
         12
        ],
        [
         121,
         14
        ],
        [
         122,
         14
        ],
        [
         123,
         6
        ],
        [
         124,
         4
        ],
        [
         125,
         10
        ],
        [
         126,
         6
        ],
        [
         127,
         14
        ],
        [
         128,
         8
        ],
        [
         129,
         6
        ],
        [
         130,
         6
        ],
        [
         131,
         16
        ],
        [
         132,
         10
        ],
        [
         133,
         10
        ],
        [
         134,
         10
        ],
        [
         135,
         8
        ],
        [
         136,
         10
        ],
        [
         137,
         12
        ],
        [
         138,
         4
        ],
        [
         139,
         4
        ],
        [
         140,
         14
        ],
        [
         141,
         8
        ],
        [
         142,
         8
        ],
        [
         143,
         16
        ],
        [
         144,
         10
        ],
        [
         145,
         14
        ],
        [
         146,
         10
        ],
        [
         147,
         6
        ],
        [
         148,
         12
        ],
        [
         149,
         22
        ],
        [
         150,
         14
        ],
        [
         151,
         18
        ],
        [
         152,
         6
        ],
        [
         153,
         10
        ],
        [
         154,
         10
        ],
        [
         155,
         8
        ],
        [
         156,
         18
        ],
        [
         157,
         16
        ],
        [
         158,
         8
        ],
        [
         159,
         10
        ],
        [
         160,
         26
        ],
        [
         161,
         14
        ],
        [
         162,
         10
        ],
        [
         163,
         8
        ],
        [
         164,
         14
        ],
        [
         165,
         4
        ],
        [
         166,
         6
        ],
        [
         167,
         6
        ],
        [
         168,
         2
        ],
        [
         169,
         10
        ],
        [
         170,
         16
        ],
        [
         171,
         14
        ],
        [
         172,
         10
        ],
        [
         173,
         14
        ],
        [
         174,
         10
        ],
        [
         175,
         8
        ],
        [
         176,
         10
        ],
        [
         177,
         18
        ],
        [
         178,
         14
        ],
        [
         179,
         8
        ],
        [
         180,
         10
        ],
        [
         181,
         11
        ],
        [
         182,
         8
        ],
        [
         183,
         16
        ],
        [
         184,
         8
        ],
        [
         185,
         16
        ],
        [
         186,
         17
        ],
        [
         187,
         10
        ],
        [
         188,
         10
        ],
        [
         189,
         10
        ],
        [
         190,
         8
        ],
        [
         191,
         12
        ],
        [
         192,
         10
        ],
        [
         193,
         8
        ],
        [
         194,
         12
        ],
        [
         195,
         10
        ],
        [
         196,
         8
        ],
        [
         197,
         4
        ],
        [
         198,
         12
        ],
        [
         199,
         10
        ],
        [
         200,
         8
        ],
        [
         201,
         8
        ],
        [
         202,
         2
        ],
        [
         203,
         8
        ],
        [
         204,
         6
        ],
        [
         205,
         16
        ],
        [
         206,
         12
        ],
        [
         207,
         6
        ],
        [
         208,
         21
        ],
        [
         209,
         6
        ],
        [
         210,
         8
        ],
        [
         211,
         14
        ],
        [
         212,
         40
        ],
        [
         213,
         8
        ],
        [
         214,
         12
        ],
        [
         215,
         10
        ],
        [
         216,
         6
        ],
        [
         217,
         16
        ],
        [
         218,
         12
        ],
        [
         219,
         10
        ],
        [
         220,
         6
        ],
        [
         221,
         10
        ],
        [
         222,
         8
        ],
        [
         223,
         8
        ],
        [
         224,
         10
        ],
        [
         225,
         12
        ],
        [
         226,
         12
        ],
        [
         227,
         14
        ],
        [
         228,
         16
        ],
        [
         229,
         8
        ],
        [
         230,
         17
        ],
        [
         231,
         17
        ],
        [
         232,
         10
        ],
        [
         233,
         12
        ],
        [
         234,
         14
        ],
        [
         235,
         10
        ],
        [
         236,
         10
        ],
        [
         237,
         12
        ],
        [
         238,
         14
        ],
        [
         239,
         10
        ],
        [
         240,
         14
        ],
        [
         241,
         18
        ],
        [
         242,
         8
        ],
        [
         243,
         8
        ],
        [
         244,
         12
        ],
        [
         245,
         4
        ],
        [
         246,
         4
        ],
        [
         247,
         8
        ],
        [
         248,
         10
        ],
        [
         249,
         28
        ],
        [
         250,
         22
        ],
        [
         251,
         10
        ],
        [
         252,
         2
        ],
        [
         253,
         10
        ],
        [
         254,
         10
        ],
        [
         255,
         8
        ],
        [
         256,
         8
        ],
        [
         257,
         6
        ],
        [
         258,
         8
        ],
        [
         259,
         10
        ],
        [
         260,
         12
        ],
        [
         261,
         20
        ],
        [
         262,
         22
        ],
        [
         263,
         6
        ],
        [
         264,
         8
        ],
        [
         265,
         12
        ],
        [
         266,
         10
        ],
        [
         267,
         8
        ],
        [
         268,
         6
        ],
        [
         269,
         14
        ],
        [
         270,
         16
        ],
        [
         271,
         12
        ],
        [
         272,
         12
        ],
        [
         273,
         20
        ],
        [
         274,
         20
        ],
        [
         275,
         10
        ],
        [
         276,
         10
        ],
        [
         277,
         14
        ],
        [
         278,
         4
        ],
        [
         279,
         22
        ],
        [
         280,
         4
        ],
        [
         281,
         18
        ],
        [
         282,
         18
        ],
        [
         283,
         8
        ],
        [
         284,
         16
        ],
        [
         285,
         16
        ],
        [
         286,
         8
        ],
        [
         287,
         10
        ],
        [
         288,
         10
        ],
        [
         289,
         12
        ],
        [
         290,
         8
        ],
        [
         291,
         10
        ],
        [
         292,
         8
        ],
        [
         293,
         4
        ],
        [
         294,
         18
        ],
        [
         295,
         10
        ],
        [
         296,
         22
        ],
        [
         297,
         8
        ],
        [
         298,
         4
        ],
        [
         299,
         10
        ],
        [
         300,
         8
        ],
        [
         301,
         4
        ],
        [
         302,
         8
        ],
        [
         303,
         14
        ],
        [
         304,
         2
        ],
        [
         305,
         14
        ],
        [
         306,
         12
        ],
        [
         307,
         16
        ],
        [
         308,
         6
        ],
        [
         309,
         8
        ],
        [
         310,
         10
        ],
        [
         311,
         16
        ],
        [
         312,
         10
        ],
        [
         313,
         10
        ],
        [
         314,
         6
        ],
        [
         315,
         12
        ],
        [
         316,
         12
        ],
        [
         317,
         20
        ],
        [
         318,
         6
        ],
        [
         319,
         8
        ],
        [
         320,
         14
        ],
        [
         321,
         8
        ],
        [
         322,
         16
        ],
        [
         323,
         10
        ],
        [
         324,
         10
        ],
        [
         325,
         10
        ],
        [
         326,
         14
        ],
        [
         327,
         10
        ],
        [
         328,
         18
        ],
        [
         329,
         6
        ],
        [
         330,
         10
        ],
        [
         331,
         6
        ],
        [
         332,
         6
        ],
        [
         333,
         8
        ],
        [
         334,
         4
        ],
        [
         335,
         4
        ],
        [
         336,
         18
        ],
        [
         337,
         10
        ],
        [
         338,
         4
        ],
        [
         339,
         10
        ],
        [
         340,
         10
        ],
        [
         341,
         10
        ],
        [
         342,
         14
        ],
        [
         343,
         12
        ],
        [
         344,
         6
        ],
        [
         345,
         12
        ],
        [
         346,
         6
        ],
        [
         347,
         0
        ],
        [
         348,
         8
        ],
        [
         349,
         18
        ],
        [
         350,
         14
        ],
        [
         351,
         18
        ],
        [
         352,
         16
        ],
        [
         353,
         8
        ],
        [
         354,
         12
        ],
        [
         355,
         8
        ],
        [
         356,
         6
        ],
        [
         357,
         18
        ],
        [
         358,
         10
        ],
        [
         359,
         12
        ],
        [
         360,
         8
        ],
        [
         361,
         14
        ],
        [
         362,
         20
        ],
        [
         363,
         14
        ],
        [
         364,
         6
        ],
        [
         365,
         14
        ],
        [
         366,
         10
        ],
        [
         367,
         14
        ],
        [
         368,
         6
        ],
        [
         369,
         6
        ],
        [
         370,
         18
        ],
        [
         371,
         6
        ],
        [
         372,
         8
        ],
        [
         373,
         12
        ],
        [
         374,
         14
        ],
        [
         375,
         10
        ],
        [
         376,
         4
        ],
        [
         377,
         10
        ],
        [
         378,
         4
        ],
        [
         379,
         16
        ],
        [
         380,
         14
        ],
        [
         381,
         4
        ],
        [
         382,
         8
        ],
        [
         383,
         14
        ],
        [
         384,
         6
        ],
        [
         385,
         8
        ],
        [
         386,
         16
        ],
        [
         387,
         28
        ],
        [
         388,
         18
        ],
        [
         389,
         10
        ],
        [
         390,
         12
        ],
        [
         391,
         12
        ],
        [
         392,
         10
        ],
        [
         393,
         4
        ],
        [
         394,
         10
        ],
        [
         395,
         8
        ],
        [
         396,
         8
        ],
        [
         397,
         10
        ],
        [
         398,
         26
        ],
        [
         399,
         12
        ],
        [
         400,
         16
        ],
        [
         401,
         16
        ],
        [
         402,
         12
        ],
        [
         403,
         16
        ],
        [
         404,
         18
        ],
        [
         405,
         10
        ],
        [
         406,
         24
        ],
        [
         407,
         6
        ],
        [
         408,
         10
        ],
        [
         409,
         20
        ],
        [
         410,
         20
        ],
        [
         411,
         16
        ],
        [
         412,
         8
        ],
        [
         413,
         14
        ],
        [
         414,
         16
        ],
        [
         415,
         16
        ],
        [
         416,
         8
        ],
        [
         417,
         6
        ],
        [
         418,
         6
        ],
        [
         419,
         10
        ],
        [
         420,
         12
        ],
        [
         421,
         14
        ],
        [
         422,
         10
        ],
        [
         423,
         6
        ],
        [
         424,
         14
        ],
        [
         425,
         28
        ],
        [
         426,
         2
        ],
        [
         427,
         14
        ],
        [
         428,
         6
        ],
        [
         429,
         4
        ],
        [
         430,
         8
        ],
        [
         431,
         6
        ],
        [
         432,
         4
        ],
        [
         433,
         6
        ],
        [
         434,
         8
        ],
        [
         435,
         4
        ],
        [
         436,
         16
        ],
        [
         437,
         16
        ],
        [
         438,
         12
        ],
        [
         439,
         12
        ],
        [
         440,
         18
        ],
        [
         441,
         10
        ],
        [
         442,
         12
        ],
        [
         443,
         10
        ],
        [
         444,
         20
        ],
        [
         445,
         6
        ],
        [
         446,
         12
        ],
        [
         447,
         10
        ],
        [
         448,
         6
        ],
        [
         449,
         6
        ],
        [
         450,
         16
        ],
        [
         451,
         4
        ],
        [
         452,
         10
        ],
        [
         453,
         8
        ],
        [
         454,
         6
        ],
        [
         455,
         10
        ],
        [
         456,
         18
        ],
        [
         457,
         10
        ],
        [
         458,
         6
        ],
        [
         459,
         8
        ],
        [
         460,
         16
        ],
        [
         461,
         16
        ],
        [
         462,
         16
        ],
        [
         463,
         10
        ],
        [
         464,
         16
        ],
        [
         465,
         12
        ],
        [
         466,
         6
        ],
        [
         467,
         12
        ],
        [
         468,
         12
        ],
        [
         469,
         8
        ],
        [
         470,
         12
        ],
        [
         471,
         2
        ],
        [
         472,
         8
        ],
        [
         473,
         10
        ],
        [
         474,
         8
        ],
        [
         475,
         14
        ],
        [
         476,
         8
        ],
        [
         477,
         10
        ],
        [
         478,
         6
        ],
        [
         479,
         4
        ],
        [
         480,
         6
        ],
        [
         481,
         14
        ],
        [
         482,
         16
        ],
        [
         483,
         8
        ],
        [
         484,
         6
        ],
        [
         485,
         12
        ],
        [
         486,
         8
        ],
        [
         487,
         14
        ],
        [
         488,
         8
        ],
        [
         489,
         14
        ],
        [
         490,
         10
        ],
        [
         491,
         12
        ],
        [
         492,
         6
        ],
        [
         493,
         8
        ],
        [
         494,
         8
        ],
        [
         495,
         16
        ],
        [
         496,
         6
        ],
        [
         497,
         20
        ],
        [
         498,
         12
        ],
        [
         499,
         10
        ],
        [
         500,
         4
        ],
        [
         501,
         28
        ],
        [
         502,
         12
        ],
        [
         503,
         10
        ],
        [
         504,
         10
        ],
        [
         505,
         8
        ],
        [
         506,
         8
        ],
        [
         507,
         14
        ],
        [
         508,
         6
        ],
        [
         509,
         14
        ],
        [
         510,
         10
        ],
        [
         511,
         6
        ],
        [
         512,
         12
        ],
        [
         513,
         10
        ],
        [
         514,
         14
        ],
        [
         515,
         6
        ],
        [
         516,
         14
        ],
        [
         517,
         6
        ],
        [
         518,
         8
        ],
        [
         519,
         12
        ],
        [
         520,
         12
        ],
        [
         521,
         14
        ],
        [
         522,
         14
        ],
        [
         523,
         30
        ],
        [
         524,
         4
        ],
        [
         525,
         2
        ],
        [
         526,
         12
        ],
        [
         527,
         6
        ],
        [
         528,
         14
        ],
        [
         529,
         6
        ],
        [
         530,
         8
        ],
        [
         531,
         14
        ],
        [
         532,
         6
        ],
        [
         533,
         12
        ],
        [
         534,
         12
        ],
        [
         535,
         6
        ],
        [
         536,
         12
        ],
        [
         537,
         18
        ],
        [
         538,
         10
        ],
        [
         539,
         4
        ],
        [
         540,
         6
        ],
        [
         541,
         12
        ],
        [
         542,
         10
        ],
        [
         543,
         6
        ],
        [
         544,
         6
        ],
        [
         545,
         0
        ],
        [
         546,
         10
        ],
        [
         547,
         8
        ],
        [
         548,
         2
        ],
        [
         549,
         12
        ],
        [
         550,
         8
        ],
        [
         551,
         18
        ],
        [
         552,
         10
        ],
        [
         553,
         8
        ],
        [
         554,
         18
        ],
        [
         555,
         6
        ],
        [
         556,
         6
        ],
        [
         557,
         20
        ],
        [
         558,
         14
        ],
        [
         559,
         10
        ],
        [
         560,
         10
        ],
        [
         561,
         16
        ],
        [
         562,
         10
        ],
        [
         563,
         18
        ],
        [
         564,
         16
        ],
        [
         565,
         12
        ],
        [
         566,
         6
        ],
        [
         567,
         10
        ],
        [
         568,
         14
        ],
        [
         569,
         14
        ],
        [
         570,
         10
        ],
        [
         571,
         10
        ],
        [
         572,
         18
        ],
        [
         573,
         8
        ],
        [
         574,
         4
        ],
        [
         575,
         8
        ],
        [
         576,
         14
        ],
        [
         577,
         12
        ],
        [
         578,
         20
        ],
        [
         579,
         12
        ],
        [
         580,
         10
        ],
        [
         581,
         10
        ],
        [
         582,
         16
        ],
        [
         583,
         16
        ],
        [
         584,
         8
        ],
        [
         585,
         6
        ],
        [
         586,
         12
        ],
        [
         587,
         6
        ],
        [
         588,
         12
        ],
        [
         589,
         2
        ],
        [
         590,
         8
        ],
        [
         591,
         12
        ],
        [
         592,
         10
        ],
        [
         593,
         4
        ],
        [
         594,
         10
        ],
        [
         595,
         12
        ],
        [
         596,
         8
        ],
        [
         597,
         6
        ],
        [
         598,
         4
        ],
        [
         599,
         6
        ],
        [
         600,
         18
        ],
        [
         601,
         10
        ],
        [
         602,
         8
        ],
        [
         603,
         12
        ],
        [
         604,
         8
        ],
        [
         605,
         16
        ],
        [
         606,
         14
        ],
        [
         607,
         8
        ],
        [
         608,
         16
        ],
        [
         609,
         8
        ],
        [
         610,
         12
        ],
        [
         611,
         14
        ],
        [
         612,
         12
        ],
        [
         613,
         20
        ],
        [
         614,
         16
        ],
        [
         615,
         8
        ],
        [
         616,
         6
        ],
        [
         617,
         16
        ],
        [
         618,
         8
        ],
        [
         619,
         14
        ],
        [
         620,
         8
        ],
        [
         621,
         18
        ],
        [
         622,
         4
        ],
        [
         623,
         6
        ],
        [
         624,
         10
        ],
        [
         625,
         24
        ],
        [
         626,
         6
        ],
        [
         627,
         4
        ],
        [
         628,
         6
        ],
        [
         629,
         20
        ],
        [
         630,
         4
        ],
        [
         631,
         12
        ],
        [
         632,
         8
        ],
        [
         633,
         8
        ],
        [
         634,
         10
        ],
        [
         635,
         16
        ],
        [
         636,
         12
        ],
        [
         637,
         12
        ],
        [
         638,
         14
        ],
        [
         639,
         14
        ],
        [
         640,
         14
        ],
        [
         641,
         10
        ],
        [
         642,
         8
        ],
        [
         643,
         14
        ],
        [
         644,
         10
        ],
        [
         645,
         10
        ],
        [
         646,
         20
        ],
        [
         647,
         10
        ],
        [
         648,
         14
        ],
        [
         649,
         10
        ],
        [
         650,
         16
        ],
        [
         651,
         10
        ],
        [
         652,
         14
        ],
        [
         653,
         8
        ],
        [
         654,
         8
        ],
        [
         655,
         4
        ],
        [
         656,
         16
        ],
        [
         657,
         10
        ],
        [
         658,
         14
        ],
        [
         659,
         10
        ],
        [
         660,
         12
        ],
        [
         661,
         8
        ],
        [
         662,
         2
        ],
        [
         663,
         10
        ],
        [
         664,
         20
        ],
        [
         665,
         10
        ],
        [
         666,
         6
        ],
        [
         667,
         6
        ],
        [
         668,
         8
        ],
        [
         669,
         8
        ],
        [
         670,
         12
        ],
        [
         671,
         18
        ],
        [
         672,
         8
        ],
        [
         673,
         12
        ],
        [
         674,
         14
        ],
        [
         675,
         10
        ],
        [
         676,
         8
        ],
        [
         677,
         8
        ],
        [
         678,
         6
        ],
        [
         679,
         6
        ],
        [
         680,
         22
        ],
        [
         681,
         4
        ],
        [
         682,
         6
        ],
        [
         683,
         8
        ],
        [
         684,
         8
        ],
        [
         685,
         14
        ],
        [
         686,
         16
        ],
        [
         687,
         8
        ],
        [
         688,
         8
        ],
        [
         689,
         14
        ],
        [
         690,
         12
        ],
        [
         691,
         12
        ],
        [
         692,
         20
        ],
        [
         693,
         4
        ],
        [
         694,
         24
        ],
        [
         695,
         10
        ],
        [
         696,
         6
        ],
        [
         697,
         12
        ],
        [
         698,
         16
        ],
        [
         699,
         16
        ],
        [
         700,
         6
        ],
        [
         701,
         18
        ],
        [
         702,
         14
        ],
        [
         703,
         8
        ],
        [
         704,
         16
        ],
        [
         705,
         10
        ],
        [
         706,
         4
        ],
        [
         707,
         10
        ],
        [
         708,
         4
        ],
        [
         709,
         8
        ],
        [
         710,
         14
        ],
        [
         711,
         8
        ],
        [
         712,
         12
        ],
        [
         713,
         8
        ],
        [
         714,
         14
        ],
        [
         715,
         10
        ],
        [
         716,
         8
        ],
        [
         717,
         12
        ],
        [
         718,
         16
        ],
        [
         719,
         14
        ],
        [
         720,
         10
        ],
        [
         721,
         4
        ],
        [
         722,
         10
        ],
        [
         723,
         14
        ],
        [
         724,
         14
        ],
        [
         725,
         4
        ],
        [
         726,
         22
        ],
        [
         727,
         12
        ],
        [
         728,
         10
        ],
        [
         729,
         4
        ],
        [
         730,
         28
        ],
        [
         731,
         16
        ],
        [
         732,
         10
        ],
        [
         733,
         10
        ],
        [
         734,
         8
        ],
        [
         735,
         12
        ],
        [
         736,
         14
        ],
        [
         737,
         10
        ],
        [
         738,
         10
        ],
        [
         739,
         10
        ],
        [
         740,
         6
        ],
        [
         741,
         22
        ],
        [
         742,
         14
        ],
        [
         743,
         8
        ]
       ],
       "datasetInfos": [],
       "dbfsResultPath": null,
       "isJsonSchema": true,
       "metadata": {
        "createTempViewForImplicitDf": true,
        "dataframeName": "_sqldf",
        "executionCount": 21
       },
       "overflow": false,
       "plotOptions": {
        "customPlotOptions": {},
        "displayType": "table",
        "pivotAggregation": null,
        "pivotColumns": null,
        "xColumns": null,
        "yColumns": null
       },
       "removedWidgets": [],
       "schema": [
        {
         "metadata": "{}",
         "name": "step",
         "type": "\"integer\""
        },
        {
         "metadata": "{}",
         "name": "total_fraudes",
         "type": "\"long\""
        }
       ],
       "type": "table"
      }
     },
     "output_type": "display_data"
    }
   ],
   "source": [
    "%sql\n",
    "SELECT\n",
    "  step,\n",
    "  SUM(fraude) AS total_fraudes\n",
    "FROM paysim.fato_transacoes\n",
    "GROUP BY step\n",
    "ORDER BY step;"
   ]
  },
  {
   "cell_type": "code",
   "execution_count": 0,
   "metadata": {
    "application/vnd.databricks.v1+cell": {
     "cellMetadata": {
      "byteLimit": 2048000,
      "implicitDf": true,
      "rowLimit": 10000
     },
     "inputWidgets": {},
     "nuid": "4232705d-8b7b-44df-b7cf-08d23b746d52",
     "showTitle": false,
     "tableResultSettingsMap": {},
     "title": ""
    }
   },
   "outputs": [
    {
     "output_type": "display_data",
     "data": {
      "text/html": [
       "<style scoped>\n",
       "  .table-result-container {\n",
       "    max-height: 300px;\n",
       "    overflow: auto;\n",
       "  }\n",
       "  table, th, td {\n",
       "    border: 1px solid black;\n",
       "    border-collapse: collapse;\n",
       "  }\n",
       "  th, td {\n",
       "    padding: 5px;\n",
       "  }\n",
       "  th {\n",
       "    text-align: left;\n",
       "  }\n",
       "</style><div class='table-result-container'><table class='table-result'><thead style='background-color: white'><tr><th>nome_cliente</th><th>total_transacoes</th><th>total_valor</th></tr></thead><tbody><tr><td>C1715283297</td><td>1</td><td>9.244551664E7</td></tr><tr><td>C2127282686</td><td>1</td><td>7.382349036E7</td></tr><tr><td>C2044643633</td><td>1</td><td>7.117248042E7</td></tr><tr><td>C1425667947</td><td>1</td><td>6.98867313E7</td></tr><tr><td>C1584456031</td><td>1</td><td>6.933731627E7</td></tr><tr><td>C811810230</td><td>1</td><td>6.750076129E7</td></tr><tr><td>C420748282</td><td>1</td><td>6.676127221E7</td></tr><tr><td>C1139847449</td><td>1</td><td>6.423444819E7</td></tr><tr><td>C300140823</td><td>1</td><td>6.384799258E7</td></tr><tr><td>C372535854</td><td>1</td><td>6.329483963E7</td></tr></tbody></table></div>"
      ]
     },
     "metadata": {
      "application/vnd.databricks.v1+output": {
       "addedWidgets": {},
       "aggData": [],
       "aggError": "",
       "aggOverflow": false,
       "aggSchema": [],
       "aggSeriesLimitReached": false,
       "aggType": "",
       "arguments": {},
       "columnCustomDisplayInfos": {},
       "data": [
        [
         "C1715283297",
         1,
         9.244551664E7
        ],
        [
         "C2127282686",
         1,
         7.382349036E7
        ],
        [
         "C2044643633",
         1,
         7.117248042E7
        ],
        [
         "C1425667947",
         1,
         6.98867313E7
        ],
        [
         "C1584456031",
         1,
         6.933731627E7
        ],
        [
         "C811810230",
         1,
         6.750076129E7
        ],
        [
         "C420748282",
         1,
         6.676127221E7
        ],
        [
         "C1139847449",
         1,
         6.423444819E7
        ],
        [
         "C300140823",
         1,
         6.384799258E7
        ],
        [
         "C372535854",
         1,
         6.329483963E7
        ]
       ],
       "datasetInfos": [],
       "dbfsResultPath": null,
       "isJsonSchema": true,
       "metadata": {
        "createTempViewForImplicitDf": true,
        "dataframeName": "_sqldf",
        "executionCount": 22
       },
       "overflow": false,
       "plotOptions": {
        "customPlotOptions": {},
        "displayType": "table",
        "pivotAggregation": null,
        "pivotColumns": null,
        "xColumns": null,
        "yColumns": null
       },
       "removedWidgets": [],
       "schema": [
        {
         "metadata": "{}",
         "name": "nome_cliente",
         "type": "\"string\""
        },
        {
         "metadata": "{}",
         "name": "total_transacoes",
         "type": "\"long\""
        },
        {
         "metadata": "{}",
         "name": "total_valor",
         "type": "\"double\""
        }
       ],
       "type": "table"
      }
     },
     "output_type": "display_data"
    }
   ],
   "source": [
    "%sql\n",
    "SELECT\n",
    "  dc.nome_cliente,\n",
    "  COUNT(*) AS total_transacoes,\n",
    "  SUM(ft.amount) AS total_valor\n",
    "FROM paysim.fato_transacoes ft\n",
    "JOIN paysim.dim_cliente dc ON ft.cliente_id = dc.cliente_id\n",
    "GROUP BY dc.nome_cliente\n",
    "ORDER BY total_valor DESC\n",
    "LIMIT 10;"
   ]
  },
  {
   "cell_type": "code",
   "execution_count": 0,
   "metadata": {
    "application/vnd.databricks.v1+cell": {
     "cellMetadata": {
      "byteLimit": 2048000,
      "implicitDf": true,
      "rowLimit": 10000
     },
     "inputWidgets": {},
     "nuid": "57dbd514-2cb1-4e71-9ad0-1d5b37853c0d",
     "showTitle": false,
     "tableResultSettingsMap": {},
     "title": ""
    }
   },
   "outputs": [
    {
     "output_type": "display_data",
     "data": {
      "text/html": [
       "<style scoped>\n",
       "  .table-result-container {\n",
       "    max-height: 300px;\n",
       "    overflow: auto;\n",
       "  }\n",
       "  table, th, td {\n",
       "    border: 1px solid black;\n",
       "    border-collapse: collapse;\n",
       "  }\n",
       "  th, td {\n",
       "    padding: 5px;\n",
       "  }\n",
       "  th {\n",
       "    text-align: left;\n",
       "  }\n",
       "</style><div class='table-result-container'><table class='table-result'><thead style='background-color: white'><tr><th>tipo_transacao</th><th>alertas</th><th>fraudes</th></tr></thead><tbody><tr><td>TRANSFER</td><td>16</td><td>4097</td></tr><tr><td>CASH_IN</td><td>0</td><td>0</td></tr><tr><td>CASH_OUT</td><td>0</td><td>4116</td></tr><tr><td>PAYMENT</td><td>0</td><td>0</td></tr><tr><td>DEBIT</td><td>0</td><td>0</td></tr></tbody></table></div>"
      ]
     },
     "metadata": {
      "application/vnd.databricks.v1+output": {
       "addedWidgets": {},
       "aggData": [],
       "aggError": "",
       "aggOverflow": false,
       "aggSchema": [],
       "aggSeriesLimitReached": false,
       "aggType": "",
       "arguments": {},
       "columnCustomDisplayInfos": {},
       "data": [
        [
         "TRANSFER",
         16,
         4097
        ],
        [
         "CASH_IN",
         0,
         0
        ],
        [
         "CASH_OUT",
         0,
         4116
        ],
        [
         "PAYMENT",
         0,
         0
        ],
        [
         "DEBIT",
         0,
         0
        ]
       ],
       "datasetInfos": [],
       "dbfsResultPath": null,
       "isJsonSchema": true,
       "metadata": {
        "createTempViewForImplicitDf": true,
        "dataframeName": "_sqldf",
        "executionCount": 24
       },
       "overflow": false,
       "plotOptions": {
        "customPlotOptions": {},
        "displayType": "table",
        "pivotAggregation": null,
        "pivotColumns": null,
        "xColumns": null,
        "yColumns": null
       },
       "removedWidgets": [],
       "schema": [
        {
         "metadata": "{}",
         "name": "tipo_transacao",
         "type": "\"string\""
        },
        {
         "metadata": "{}",
         "name": "alertas",
         "type": "\"long\""
        },
        {
         "metadata": "{}",
         "name": "fraudes",
         "type": "\"long\""
        }
       ],
       "type": "table"
      }
     },
     "output_type": "display_data"
    }
   ],
   "source": [
    "%sql\n",
    "SELECT\n",
    "  dt.type AS tipo_transacao,\n",
    "  SUM(ft.alerta_fraude) AS alertas,\n",
    "  SUM(ft.fraude) AS fraudes\n",
    "FROM paysim.fato_transacoes ft\n",
    "JOIN paysim.dim_tipo dt ON ft.tipo_id = dt.tipo_id\n",
    "GROUP BY dt.type;"
   ]
  },
  {
   "cell_type": "code",
   "execution_count": 0,
   "metadata": {
    "application/vnd.databricks.v1+cell": {
     "cellMetadata": {
      "byteLimit": 2048000,
      "rowLimit": 10000
     },
     "inputWidgets": {},
     "nuid": "03e22094-02bb-4154-811b-a04dfc6e3357",
     "showTitle": false,
     "tableResultSettingsMap": {},
     "title": ""
    }
   },
   "outputs": [
    {
     "output_type": "stream",
     "name": "stdout",
     "output_type": "stream",
     "text": [
      "root\n |-- transacao_id: long (nullable = false)\n |-- step: integer (nullable = true)\n |-- tipo_id: integer (nullable = true)\n |-- cliente_id: integer (nullable = true)\n |-- destinatario_id: integer (nullable = true)\n |-- amount: double (nullable = true)\n |-- saldo_anterior: double (nullable = true)\n |-- saldo_posterior: double (nullable = true)\n |-- fraude: integer (nullable = true)\n |-- alerta_fraude: integer (nullable = true)\n\nroot\n |-- tipo_id: integer (nullable = false)\n |-- type: string (nullable = true)\n\nroot\n |-- cliente_id: integer (nullable = false)\n |-- nome_cliente: string (nullable = true)\n\nroot\n |-- destinatario_id: integer (nullable = false)\n |-- nome_destinatario: string (nullable = true)\n\nroot\n |-- step: integer (nullable = true)\n\n"
     ]
    }
   ],
   "source": [
    "# Fato\n",
    "fato.printSchema()\n",
    "\n",
    "# Dimensões\n",
    "dim_tipo.printSchema()\n",
    "dim_cliente.printSchema()\n",
    "dim_dest.printSchema()\n",
    "dim_tempo.printSchema()"
   ]
  },
  {
   "cell_type": "code",
   "execution_count": 0,
   "metadata": {
    "application/vnd.databricks.v1+cell": {
     "cellMetadata": {
      "byteLimit": 2048000,
      "rowLimit": 10000
     },
     "inputWidgets": {},
     "nuid": "adea772e-5fa5-4f51-b917-cd667f022ae2",
     "showTitle": false,
     "tableResultSettingsMap": {},
     "title": ""
    }
   },
   "outputs": [
    {
     "output_type": "execute_result",
     "data": {
      "text/plain": [
       "['In',\n",
       " 'LinearRegression',\n",
       " 'LogisticRegression',\n",
       " 'Out',\n",
       " 'SparkSession',\n",
       " 'VectorAssembler',\n",
       " 'Window',\n",
       " '_',\n",
       " '_19',\n",
       " '_20',\n",
       " '_21',\n",
       " '_22',\n",
       " '_23',\n",
       " '_24',\n",
       " '__',\n",
       " '___',\n",
       " '__builtin__',\n",
       " '__builtins__',\n",
       " '__name__',\n",
       " '_dh',\n",
       " '_i',\n",
       " '_i1',\n",
       " '_i10',\n",
       " '_i11',\n",
       " '_i12',\n",
       " '_i13',\n",
       " '_i14',\n",
       " '_i15',\n",
       " '_i16',\n",
       " '_i17',\n",
       " '_i18',\n",
       " '_i19',\n",
       " '_i2',\n",
       " '_i20',\n",
       " '_i21',\n",
       " '_i22',\n",
       " '_i23',\n",
       " '_i24',\n",
       " '_i25',\n",
       " '_i26',\n",
       " '_i3',\n",
       " '_i4',\n",
       " '_i5',\n",
       " '_i6',\n",
       " '_i7',\n",
       " '_i8',\n",
       " '_i9',\n",
       " '_ih',\n",
       " '_ii',\n",
       " '_iii',\n",
       " '_oh',\n",
       " '_sqldf',\n",
       " 'avg',\n",
       " 'col',\n",
       " 'data',\n",
       " 'data_clf',\n",
       " 'data_clf_ml',\n",
       " 'data_ml',\n",
       " 'dbutils',\n",
       " 'delimiter',\n",
       " 'dense_rank',\n",
       " 'df',\n",
       " 'df_fraudes_tempo',\n",
       " 'df_fraudes_tempo_pd',\n",
       " 'df_fraudes_tipo',\n",
       " 'df_fraudes_tipo_pd',\n",
       " 'df_tipo',\n",
       " 'df_tipo_pd',\n",
       " 'df_top_clientes',\n",
       " 'df_valor_medio',\n",
       " 'dim_cliente',\n",
       " 'dim_dest',\n",
       " 'dim_tempo',\n",
       " 'dim_tipo',\n",
       " 'display',\n",
       " 'displayHTML',\n",
       " 'exit',\n",
       " 'fato',\n",
       " 'file_location',\n",
       " 'file_type',\n",
       " 'first_row_is_header',\n",
       " 'getArgument',\n",
       " 'get_ipython',\n",
       " 'infer_schema',\n",
       " 'log_model',\n",
       " 'log_reg',\n",
       " 'lr',\n",
       " 'lr_model',\n",
       " 'max',\n",
       " 'min',\n",
       " 'monotonically_increasing_id',\n",
       " 'open',\n",
       " 'plt',\n",
       " 'predictions',\n",
       " 'predictions_pd',\n",
       " 'quit',\n",
       " 'row_number',\n",
       " 'sc',\n",
       " 'sns',\n",
       " 'spark',\n",
       " 'sql',\n",
       " 'sqlContext',\n",
       " 'sum',\n",
       " 'table',\n",
       " 'training_summary',\n",
       " 'udf',\n",
       " 'vec_assembler',\n",
       " 'vec_assembler_clf',\n",
       " 'window_cli',\n",
       " 'window_dest',\n",
       " 'window_tipo']"
      ]
     },
     "execution_count": 26,
     "metadata": {},
     "output_type": "execute_result"
    }
   ],
   "source": [
    "dir()"
   ]
  },
  {
   "cell_type": "code",
   "execution_count": 0,
   "metadata": {
    "application/vnd.databricks.v1+cell": {
     "cellMetadata": {
      "byteLimit": 2048000,
      "rowLimit": 10000
     },
     "inputWidgets": {},
     "nuid": "e3713591-226a-4b14-895f-2692518960be",
     "showTitle": false,
     "tableResultSettingsMap": {},
     "title": ""
    }
   },
   "outputs": [],
   "source": [
    "# from pyspark.sql.functions import col, min, max, countDistinct, count, isnan, when\n",
    "# from pyspark.sql import DataFrame\n",
    "\n",
    "# def gerar_catalogo(df: DataFrame, nome_tabela: str) -> DataFrame:\n",
    "#     dados = []\n",
    "\n",
    "#     for col_name, dtype in df.dtypes:\n",
    "#         coluna = df.select(col(col_name))\n",
    "#         unicos = coluna.distinct().count()\n",
    "#         nulos = coluna.filter((col(col_name).isNull()) | (isnan(col(col_name)))).count()\n",
    "\n",
    "#         if dtype in ['int', 'bigint', 'double', 'float']:\n",
    "#             stats = df.select(min(col(col_name)).alias(\"min\"), max(col(col_name)).alias(\"max\")).first()\n",
    "#             minimo = stats[\"min\"]\n",
    "#             maximo = stats[\"max\"]\n",
    "#         else:\n",
    "#             minimo = None\n",
    "#             maximo = None\n",
    "\n",
    "#         dados.append((nome_tabela, col_name, dtype, unicos, minimo, maximo, nulos))\n",
    "\n",
    "#     schema = [\"tabela\", \"coluna\", \"tipo_dado\", \"valores_unicos\", \"valor_minimo\", \"valor_maximo\", \"valores_nulos\"]\n",
    "#     return spark.createDataFrame(dados, schema)\n",
    "\n",
    "from pyspark.sql.functions import col, min, max, countDistinct, count, isnan, when, lit\n",
    "from pyspark.sql import DataFrame\n",
    "from pyspark.sql.types import StringType\n",
    "\n",
    "def gerar_catalogo(df: DataFrame, nome_tabela: str) -> DataFrame:\n",
    "    dados = []\n",
    "\n",
    "    for col_name, dtype in df.dtypes:\n",
    "        coluna = df.select(col(col_name))\n",
    "        unicos = coluna.distinct().count()\n",
    "        nulos = coluna.filter((col(col_name).isNull()) | (isnan(col(col_name)))).count()\n",
    "\n",
    "        if dtype in ['int', 'bigint', 'double', 'float']:\n",
    "            stats = df.select(min(col(col_name)).alias(\"min\"), max(col(col_name)).alias(\"max\")).first()\n",
    "            minimo = str(stats[\"min\"])\n",
    "            maximo = str(stats[\"max\"])\n",
    "        else:\n",
    "            minimo = None\n",
    "            maximo = None\n",
    "\n",
    "        dados.append((nome_tabela, col_name, dtype, str(unicos), minimo, maximo, str(nulos)))\n",
    "\n",
    "    schema = [\"tabela\", \"coluna\", \"tipo_dado\", \"valores_unicos\", \"valor_minimo\", \"valor_maximo\", \"valores_nulos\"]\n",
    "    return spark.createDataFrame(dados, schema)"
   ]
  },
  {
   "cell_type": "code",
   "execution_count": 0,
   "metadata": {
    "application/vnd.databricks.v1+cell": {
     "cellMetadata": {
      "byteLimit": 2048000,
      "rowLimit": 10000
     },
     "inputWidgets": {},
     "nuid": "2c89b5d3-7d1d-4ad3-94a3-dd6c28435a5c",
     "showTitle": false,
     "tableResultSettingsMap": {},
     "title": ""
    }
   },
   "outputs": [
    {
     "output_type": "stream",
     "name": "stdout",
     "output_type": "stream",
     "text": [
      "+----------------+-----------------+---------+--------------+------------+------------+-------------+\n|tabela          |coluna           |tipo_dado|valores_unicos|valor_minimo|valor_maximo|valores_nulos|\n+----------------+-----------------+---------+--------------+------------+------------+-------------+\n|fato_transacoes |transacao_id     |bigint   |6362620       |0           |60130288799 |0            |\n|fato_transacoes |step             |int      |743           |1           |743         |0            |\n|fato_transacoes |tipo_id          |int      |5             |1           |5           |0            |\n|fato_transacoes |cliente_id       |int      |6353307       |1           |6353307     |0            |\n|fato_transacoes |destinatario_id  |int      |2722362       |1           |2722362     |0            |\n|fato_transacoes |amount           |double   |5316900       |0.0         |92445516.64 |0            |\n|fato_transacoes |saldo_anterior   |double   |1845844       |0.0         |59585040.37 |0            |\n|fato_transacoes |saldo_posterior  |double   |2682586       |0.0         |49585040.37 |0            |\n|fato_transacoes |fraude           |int      |2             |0           |1           |0            |\n|fato_transacoes |alerta_fraude    |int      |2             |0           |1           |0            |\n|dim_tipo        |tipo_id          |int      |5             |1           |5           |0            |\n|dim_tipo        |type             |string   |5             |NULL        |NULL        |0            |\n|dim_cliente     |cliente_id       |int      |6353307       |1           |6353307     |0            |\n|dim_cliente     |nome_cliente     |string   |6353307       |NULL        |NULL        |0            |\n|dim_destinatario|destinatario_id  |int      |2722362       |1           |2722362     |0            |\n|dim_destinatario|nome_destinatario|string   |2722362       |NULL        |NULL        |0            |\n|dim_tempo       |step             |int      |743           |1           |743         |0            |\n+----------------+-----------------+---------+--------------+------------+------------+-------------+\n\n"
     ]
    }
   ],
   "source": [
    "# cat_fato = gerar_catalogo(fato, \"fato_transacoes\")\n",
    "# cat_tipo = gerar_catalogo(dim_tipo, \"dim_tipo\")\n",
    "# cat_cliente = gerar_catalogo(dim_cliente, \"dim_cliente\")\n",
    "# cat_dest = gerar_catalogo(dim_destinatario, \"dim_destinatario\")\n",
    "# cat_tempo = gerar_catalogo(dim_tempo, \"dim_tempo\")\n",
    "\n",
    "# # Unir tudo em um único catálogo\n",
    "# catalogo_final = cat_fato.union(cat_tipo).union(cat_cliente).union(cat_dest).union(cat_tempo)\n",
    "# catalogo_final.show(truncate=False)\n",
    "\n",
    "cat_fato = gerar_catalogo(fato, \"fato_transacoes\")\n",
    "cat_tipo = gerar_catalogo(dim_tipo, \"dim_tipo\")\n",
    "cat_cliente = gerar_catalogo(dim_cliente, \"dim_cliente\")\n",
    "cat_dest = gerar_catalogo(dim_dest, \"dim_destinatario\")\n",
    "cat_tempo = gerar_catalogo(dim_tempo, \"dim_tempo\")\n",
    "\n",
    "catalogo_final = cat_fato.union(cat_tipo).union(cat_cliente).union(cat_dest).union(cat_tempo)\n",
    "catalogo_final.show(truncate=False)"
   ]
  },
  {
   "cell_type": "code",
   "execution_count": 0,
   "metadata": {
    "application/vnd.databricks.v1+cell": {
     "cellMetadata": {
      "byteLimit": 2048000,
      "rowLimit": 10000
     },
     "inputWidgets": {},
     "nuid": "4c38bd2c-2f21-4d3b-ac2a-4ad818d74364",
     "showTitle": false,
     "tableResultSettingsMap": {},
     "title": ""
    }
   },
   "outputs": [],
   "source": [
    "from pyspark.sql.functions import col, isnan, when, count\n",
    "\n",
    "df.select([\n",
    "    count(when(col(c).isNull() | isnan(c), c)).alias(c)\n",
    "    for c in df.columns\n",
    "]).show()"
   ]
  },
  {
   "cell_type": "code",
   "execution_count": 0,
   "metadata": {
    "application/vnd.databricks.v1+cell": {
     "cellMetadata": {},
     "inputWidgets": {},
     "nuid": "a75021eb-7223-4330-b7cd-0e186af714b1",
     "showTitle": false,
     "tableResultSettingsMap": {},
     "title": ""
    }
   },
   "outputs": [],
   "source": []
  }
 ],
 "metadata": {
  "application/vnd.databricks.v1+notebook": {
   "computePreferences": null,
   "dashboards": [],
   "environmentMetadata": {
    "base_environment": "",
    "environment_version": "1"
   },
   "inputWidgetPreferences": null,
   "language": "python",
   "notebookMetadata": {
    "mostRecentlyExecutedCommandWithImplicitDF": {
     "commandId": 3310508658687779,
     "dataframes": [
      "_sqldf"
     ]
    },
    "pythonIndentUnit": 4
   },
   "notebookName": "MVP_Engenharia_de_Dados",
   "widgets": {}
  }
 },
 "nbformat": 4,
 "nbformat_minor": 0
}